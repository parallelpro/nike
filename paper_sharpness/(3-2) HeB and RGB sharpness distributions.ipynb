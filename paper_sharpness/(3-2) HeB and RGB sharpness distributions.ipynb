{
 "cells": [
  {
   "cell_type": "code",
   "execution_count": 3,
   "metadata": {},
   "outputs": [],
   "source": [
    "%run setup.py\n",
    "%config IPython.matplotlib.backend = \"retina\""
   ]
  },
  {
   "cell_type": "markdown",
   "metadata": {},
   "source": [
    "# HeB"
   ]
  },
  {
   "cell_type": "code",
   "execution_count": 12,
   "metadata": {},
   "outputs": [],
   "source": [
    "def plot_model(distance, variable, tck_obs, tp_obs, xobs, yobs, xedge_obs, yedge_obs,\n",
    "            tck_pdv, tp_pdv, xpdv, ypdv, xedge_pdv, yedge_pdv, filename, scatters, xtitle, panels):\n",
    "    # calculate Kepler distance\n",
    "    hdist_obs, xobs, yobs = distance_to_edge(xobs, yobs, xedge_obs, yedge_obs, tck_obs, tp_obs, diagram=diagram, distance=distance)\n",
    "    obj_obs = distfit(hdist_obs, hist_model)\n",
    "    obj_obs = distfit(hdist_obs, hist_model, bins=obj_obs.bins)\n",
    "    obj_obs.fit(ifmcmc=False)\n",
    "\n",
    "    hdist_pdv, xpdv, ypdv = distance_to_edge(xpdv, ypdv, xedge_pdv, yedge_pdv, tck_pdv, tp_pdv, diagram=diagram, distance=distance)\n",
    "    obj_pdv = distfit(hdist_pdv, hist_model, bins=obj_obs.bins)\n",
    "    obj_pdv.fit(ifmcmc=False)\n",
    "\n",
    "    Ndata = xpdv.shape[0]\n",
    "\n",
    "    # tied to model6\n",
    "    weight = np.zeros(obj_obs.histx.shape[0], dtype=bool)\n",
    "    sigma, x0 = obj_obs.para_fit[0], obj_obs.para_fit[1]\n",
    "    idx = (obj_obs.histx >= x0-3*sigma) & (obj_obs.histx <= x0+3*sigma)\n",
    "    weight[idx] = True\n",
    "\n",
    "\n",
    "    if distance==\"vertical\":\n",
    "        fy2_base = np.random.normal(size=Ndata)\n",
    "        fp = ypdv*fy2_base\n",
    "    else:\n",
    "        # fx1 = np.array([random.gauss(0,1) for i in range(Ndata)]) * 10.0**scipy.signal.resample(np.log10(e_xobs), Ndata) * scalar\n",
    "        # \"horizontal\"\n",
    "        fx2_base = np.random.normal(size=Ndata)\n",
    "        fp = xpdv*fx2_base\n",
    "\n",
    "\n",
    "    def model(theta):#, obj_obs, xpdv, ypdv):\n",
    "\n",
    "        # theta[0]: offset in distance\n",
    "        # theta[1]: perturb\n",
    "\n",
    "        # disturb with artificial scatter\n",
    "        # xdata, ydata = (xpdv + xpdv*(fx2_base*theta[1])), (ypdv + ypdv*(fy2_base*theta[1]))\n",
    "\n",
    "        hdist = hdist_pdv + fp*theta[1]\n",
    "        hdist = hdist + theta[0]\n",
    "        obj = distfit(hdist, hist_model, bins=obj_obs.bins)\n",
    "\n",
    "        # normalize the number of points in the weighted region\n",
    "        if np.sum(obj.histy[weight])!=0:\n",
    "            number_reduction_factor = 1. / np.sum(obj.histy[weight])*np.sum(obj_obs.histy[weight])\n",
    "        else:\n",
    "            number_reduction_factor = 0.\n",
    "        histy = obj.histy * number_reduction_factor\n",
    "        return histy, hdist, number_reduction_factor\n",
    "\n",
    "    # result plot\n",
    "    fig = plt.figure(figsize=mnras_size())\n",
    "    axes = fig.subplots(nrows=1, ncols=1, squeeze=False).reshape(-1)\n",
    "    obj_obs.plot_hist(ax=axes[0], histkwargs={\"color\":\"red\",\"linewidth\":2.0,\"label\":\"Kepler\", \"zorder\":100})\n",
    "    obj_obs.plot_fit(ax=axes[0], fitkwargs={\"color\":\"black\",\"linewidth\":0.5, \"linestyle\":\"--\", \"zorder\":100})\n",
    "    # obj_pdv.plot_hist(ax=axes[0], histkwargs={\"color\":\"green\", \"label\":\"Galaxia initial model\"})\n",
    "\n",
    "\n",
    "    # plot three different combinations\n",
    "    scatters = scatters\n",
    "    colors = sns.cubehelix_palette(2, start=2.8, rot=0., dark=0.25, light=.60, reverse=True)\n",
    "    # linestyles = ['densly dashdotted', 'dashdotted', 'loosely dashdotted']\n",
    "    linestyles = [(0,(3,1,1,1)), (0,(3,1,1,1,1,1))]#, (0,(3,1,1,1,1,1,1,1))]\n",
    "    # colors = sns.dark_palette(\"navy\", n_colors=4, reverse=True)#sns.dark_palette(\"blue\", 4)[::-1]\n",
    "    for i in range(len(scatters)):\n",
    "        # calculate best fitted results\n",
    "        para_fit = [0, scatters[i]]\n",
    "        yfit, hdist, number_reduction_factor = model(para_fit)\n",
    "        Ndata = hdist.shape[0]\n",
    "        idx = reduce_samples(Ndata, Ndata*number_reduction_factor)\n",
    "\n",
    "        if distance==\"vertical\":\n",
    "            xdata = xpdv\n",
    "            ydata = ypdv + fp*para_fit[1]\n",
    "        else:\n",
    "            xdata = xpdv + fp*para_fit[1]\n",
    "            ydata = ypdv\n",
    "\n",
    "        xfit, yfit = xdata[idx], ydata[idx]\n",
    "        hdist_fit, xfit, yfit = distance_to_edge(xfit, yfit, xedge_pdv, yedge_pdv, tck_pdv, tp_pdv, diagram=diagram, distance=distance)\n",
    "        hdist_fit = hdist_fit + para_fit[0]\n",
    "\n",
    "        obj_fit = distfit(hdist_fit, hist_model, bins=obj_obs.bins)\n",
    "        obj_fit.fit(ifmcmc=False)\n",
    "        str_scatter = \"{:0.0f}\\%\".format(scatters[i]*100)\n",
    "        label = \"Galaxia $\\\\sigma_{\"+variable+\"}=\"+str_scatter+\"$\" #\"$r_{\"+variable+\"}=0$, \n",
    "        axes[0].step(obj_fit.histx, obj_fit.histy, **{\"color\":colors[i], \"label\":label, \"linewidth\":2.})#\"linestyle\":linestyles[i]\n",
    "\n",
    "\n",
    "    # axes[0].grid(True)\n",
    "    axes[0].set_ylim(0., obj_obs.histy.max()*1.5)\n",
    "    axes[0].set_xlabel(xtitle)\n",
    "    axes[0].set_ylabel(\"Counts\")\n",
    "    axes[0].legend()\n",
    "    # fill weighted region\n",
    "    xmin_, xmax_ = obj_obs.histx[weight].min(), obj_obs.histx[weight].max()\n",
    "    lr = xmax_ - xmin_\n",
    "    axes[0].fill_betweenx(axes[0].get_ylim(), [xmin_, xmin_], [xmax_, xmax_], color=\"lightgray\")\n",
    "    axes[0].set_xlim(xmin_-lr*1.0, xmax_+lr*1.3)\n",
    "    axes[0].text(0.05, 0.9, panels, transform=axes[0].transAxes)\n",
    "\n",
    "    # plt.show()\n",
    "    plt.tight_layout()\n",
    "    plt.savefig(overleaf_path+filename)\n",
    "    # plt.close()\n"
   ]
  },
  {
   "cell_type": "code",
   "execution_count": 8,
   "metadata": {},
   "outputs": [
    {
     "data": {
      "image/png": "[encoded data removed]",
      "text/plain": [
       "<Figure size 144x72 with 1 Axes>"
      ]
     },
     "metadata": {
      "needs_background": "light"
     },
     "output_type": "display_data"
    }
   ],
   "source": [
    "sns.palplot(sns.cubehelix_palette(2, start=2.8, rot=0., dark=0.25, light=.60, reverse=True))"
   ]
  },
  {
   "cell_type": "code",
   "execution_count": 13,
   "metadata": {},
   "outputs": [
    {
     "data": {
      "image/png": "[encoded data removed]",
      "text/plain": [
       "<Figure size 240x148.328 with 1 Axes>"
      ]
     },
     "metadata": {
      "needs_background": "light"
     },
     "output_type": "display_data"
    },
    {
     "data": {
      "image/png": "[encoded data removed]",
      "text/plain": [
       "<Figure size 240x148.328 with 1 Axes>"
      ]
     },
     "metadata": {
      "needs_background": "light"
     },
     "output_type": "display_data"
    }
   ],
   "source": [
    "yu = np.load(work_path+'sample/heb/yu/yu18.npy',allow_pickle=True).tolist()\n",
    "edge = np.load(work_path+'sample/heb/yu/tnu_edge_samples.npy')\n",
    "tck_obs, tp_obs = np.load(work_path+\"sample/heb/yu/nike_spline_tck.npy\", allow_pickle=True)\n",
    "xobs, yobs = yu[\"numax\"], yu[\"dnu\"]\n",
    "xedge_obs, yedge_obs = edge[:,0], edge[:,1]\n",
    "\n",
    "pdv = np.load(work_path+'sample/heb/padova/padova.npy',allow_pickle=True).tolist()\n",
    "edge = np.load(work_path+'sample/heb/padova/tnu_edge_samples.npy')\n",
    "tck_pdv, tp_pdv = np.load(work_path+'sample/heb/padova/nike_spline_tck.npy', allow_pickle=True)\n",
    "xpdv, ypdv = pdv[\"numax\"], pdv[\"dnu\"]\n",
    "xedge_pdv, yedge_pdv = edge[:,0], edge[:,1]\n",
    "\n",
    "from lib.histdist import distance_to_edge, distfit, model6, reduce_samples\n",
    "diagram = \"tnu\"\n",
    "hist_model = model6()\n",
    "\n",
    "\n",
    "distance = \"vertical\"\n",
    "variable = \"\\Delta\\\\nu\"\n",
    "filename = \"hist_heb_dnu.pdf\"\n",
    "xtitle = \"Vertical distance in $\\\\Delta\\\\nu$ to the ZAHB edge ($\\\\mu$Hz)\"\n",
    "# scatters = [0, 0.02, 0.06]\n",
    "scatters = [0, 0.06]\n",
    "plot_model(distance, variable, tck_obs, tp_obs, xobs, yobs, xedge_obs, yedge_obs,\n",
    "            tck_pdv, tp_pdv, xpdv, ypdv, xedge_pdv, yedge_pdv, filename, scatters, xtitle, \"(b)\")\n",
    "\n",
    "distance = \"horizontal\"\n",
    "variable = \"\\\\nu_{\\\\rm max}\"\n",
    "filename = \"hist_heb_numax.pdf\"\n",
    "xtitle = \"Horizontal distance in $\\\\nu_{\\\\rm max}$ to the ZAHB edge ($\\\\mu$Hz)\"\n",
    "# scatters = [0, 0.04, 0.12]\n",
    "scatters = [0, 0.12]\n",
    "plot_model(distance, variable, tck_obs, tp_obs, xobs, yobs, xedge_obs, yedge_obs,\n",
    "            tck_pdv, tp_pdv, xpdv, ypdv, xedge_pdv, yedge_pdv, filename, scatters, xtitle, \"(a)\")"
   ]
  },
  {
   "cell_type": "code",
   "execution_count": 14,
   "metadata": {},
   "outputs": [
    {
     "data": {
      "image/png": "[encoded data removed]",
      "text/plain": [
       "<Figure size 240x148.328 with 1 Axes>"
      ]
     },
     "metadata": {
      "needs_background": "light"
     },
     "output_type": "display_data"
    },
    {
     "data": {
      "image/png": "[encoded data removed]",
      "text/plain": [
       "<Figure size 240x148.328 with 1 Axes>"
      ]
     },
     "metadata": {
      "needs_background": "light"
     },
     "output_type": "display_data"
    }
   ],
   "source": [
    "yu = np.load(work_path+'sample/heb/yu/yu18.npy',allow_pickle=True).tolist()\n",
    "edge = np.load(work_path+'sample/heb/yu/mr_edge_samples.npy')\n",
    "tck_obs, tp_obs = np.load(work_path+\"sample/heb/yu/mr_spline_tck.npy\", allow_pickle=True)\n",
    "xobs, yobs = yu[\"mass\"], yu[\"radius\"]\n",
    "xedge_obs, yedge_obs = edge[:,0], edge[:,1]\n",
    "\n",
    "pdv = np.load(work_path+'sample/heb/padova/padova.npy',allow_pickle=True).tolist()\n",
    "edge = np.load(work_path+'sample/heb/padova/mr_edge_samples.npy')\n",
    "tck_pdv, tp_pdv = np.load(work_path+'sample/heb/padova/mr_spline_tck.npy', allow_pickle=True)\n",
    "xpdv, ypdv = pdv[\"mass\"], pdv[\"radius\"]\n",
    "xedge_pdv, yedge_pdv = edge[:,0], edge[:,1]\n",
    "\n",
    "from lib.histdist import distance_to_edge, distfit, model6, reduce_samples\n",
    "diagram = \"mr\"\n",
    "hist_model = model6()\n",
    "\n",
    "\n",
    "distance = \"vertical\"\n",
    "variable = \"R\"\n",
    "filename = \"hist_heb_radius.pdf\"\n",
    "# scatters = [0, 0.03, 0.06]\n",
    "scatters = [0, 0.06]\n",
    "xtitle = \"Vertical distance in $R$ to the ZAHB edge ($R_{\\odot}$)\"\n",
    "plot_model(distance, variable, tck_obs, tp_obs, xobs, yobs, xedge_obs, yedge_obs,\n",
    "            tck_pdv, tp_pdv, xpdv, ypdv, xedge_pdv, yedge_pdv, filename, scatters, xtitle, \"(d)\")\n",
    "\n",
    "distance = \"horizontal\"\n",
    "variable = \"M\"\n",
    "filename = \"hist_heb_mass.pdf\"\n",
    "# scatters = [0, 0.07, 0.20]\n",
    "scatters = [0, 0.20]\n",
    "xtitle = \"Horizontal distance in $M$ to the ZAHB edge ($M_{\\odot}$)\"\n",
    "plot_model(distance, variable, tck_obs, tp_obs, xobs, yobs, xedge_obs, yedge_obs,\n",
    "            tck_pdv, tp_pdv, xpdv, ypdv, xedge_pdv, yedge_pdv, filename, scatters, xtitle, \"(c)\")"
   ]
  },
  {
   "cell_type": "markdown",
   "metadata": {},
   "source": [
    "# RGB"
   ]
  },
  {
   "cell_type": "code",
   "execution_count": 8,
   "metadata": {},
   "outputs": [],
   "source": [
    "def plot_model(distance, variable, xobs, yobs, bump_obs,\n",
    "            xpdv, ypdv, bump_pdv, filename, scatters, xtitle, panels):\n",
    "    \n",
    "    if variable =='\\Delta\\\\nu':\n",
    "        bins = np.arange(-3, 3, 0.2)\n",
    "    elif variable == '\\\\nu_{\\\\rm max}':\n",
    "        bins = np.arange(-33, 33, 2.0)\n",
    "    elif variable == 'M':\n",
    "        bins = np.arange(-0.8, 0.8, 0.05)\n",
    "    else:\n",
    "        bins = np.arange(-3.0, 3.0, 0.2)\n",
    "    \n",
    "    # calculate Kepler distance\n",
    "    hdist_obs, xobs, yobs = distance_to_bump(xobs, yobs, bump_obs, distance=distance)\n",
    "    obj_obs = distfit(hdist_obs, hist_model, bins=bins)\n",
    "    obj_obs.fit(ifmcmc=False)\n",
    "\n",
    "    hdist_pdv, xpdv, ypdv = distance_to_bump(xpdv, ypdv, bump_pdv, distance=distance)\n",
    "    obj_pdv = distfit(hdist_pdv, hist_model, bins=obj_obs.bins)\n",
    "    obj_pdv.fit(ifmcmc=False)\n",
    "\n",
    "    Ndata = xpdv.shape[0]\n",
    "\n",
    "    # tied to model6\n",
    "    weight = np.zeros(obj_obs.histx.shape[0], dtype=bool)\n",
    "    sigma, x0 = obj_obs.para_fit[0], obj_obs.para_fit[1]\n",
    "    if variable == 'M': sigma, x0 = 0.4/3., 0.\n",
    "    if variable == 'R': sigma, x0 = 2.0/3., 0.05\n",
    "    idx = (obj_obs.histx >= x0-3*sigma) & (obj_obs.histx <= x0+3*sigma)\n",
    "    weight[idx] = True\n",
    "\n",
    "    \n",
    "    if distance==\"vertical\":\n",
    "        fy2_base = np.random.normal(size=Ndata)\n",
    "        fp = ypdv*fy2_base\n",
    "    else:\n",
    "        # fx1 = np.array([random.gauss(0,1) for i in range(Ndata)]) * 10.0**scipy.signal.resample(np.log10(e_xobs), Ndata) * scalar\n",
    "        # \"horizontal\"\n",
    "        fx2_base = np.random.normal(size=Ndata)\n",
    "        fp = xpdv*fx2_base\n",
    "\n",
    "\n",
    "    def model(theta):#, obj_obs, xpdv, ypdv):\n",
    "\n",
    "        # theta[0]: offset in distance\n",
    "        # theta[1]: perturb\n",
    "\n",
    "        # disturb with artificial scatter\n",
    "        # xdata, ydata = (xpdv + xpdv*(fx2_base*theta[1])), (ypdv + ypdv*(fy2_base*theta[1]))\n",
    "\n",
    "        hdist = hdist_pdv + fp*theta[1]\n",
    "        hdist = hdist + theta[0]\n",
    "        obj = distfit(hdist, hist_model, bins=obj_obs.bins)\n",
    "\n",
    "        # normalize the number of points in the weighted region\n",
    "        if np.sum(obj.histy[weight])!=0:\n",
    "            number_reduction_factor = 1. / np.sum(obj.histy[weight])*np.sum(obj_obs.histy[weight])\n",
    "        else:\n",
    "            number_reduction_factor = 0.\n",
    "        histy = obj.histy * number_reduction_factor\n",
    "        return histy, hdist, number_reduction_factor\n",
    "\n",
    "    # result plot\n",
    "    fig = plt.figure(figsize=mnras_size())\n",
    "    axes = fig.subplots(nrows=1, ncols=1, squeeze=False).reshape(-1)\n",
    "    obj_obs.plot_hist(ax=axes[0], histkwargs={\"color\":\"red\", \"linewidth\":2.0, \"label\":\"Kepler\", \"zorder\":100})\n",
    "    obj_obs.plot_fit(ax=axes[0], fitkwargs={\"color\":\"black\", \"linewidth\":0.5, \"linestyle\":\"--\", \"zorder\":100})\n",
    "#     if variable in ['\\Delta\\\\nu', '\\\\nu_{\\\\rm max}']:\n",
    "#         obj_obs.plot_fit(ax=axes[0], fitkwargs={\"color\":\"black\", \"linewidth\":0.5, \"linestyle\":\"--\", \"zorder\":100})\n",
    "#     else:\n",
    "#         if variable == 'M':\n",
    "#             fitbins = np.arange(-0.4, 0.4, 0.05)\n",
    "#         if variable == 'R':\n",
    "#             fitbins = np.arange(-2., 2., 0.2)\n",
    "            \n",
    "#         obj = distfit(hdist_obs, hist_model, bins=fitbins)\n",
    "#         obj.fit(ifmcmc=False)\n",
    "    \n",
    "#         obj_obs.plot_fit(ax=axes[0], theta=obj.para_fit, fitkwargs={\"color\":\"black\", \"linewidth\":0.5,\n",
    "#                                                                     \"linestyle\":\"--\", \"zorder\":100})\n",
    "\n",
    "\n",
    "    # plot three different combinations\n",
    "    scatters = scatters\n",
    "    colors = sns.cubehelix_palette(2, start=2.8, rot=0., dark=0.25, light=.60, reverse=True)\n",
    "    # linestyles = ['densly dashdotted', 'dashdotted', 'loosely dashdotted']\n",
    "    linestyles = [(0,(3,1,1,1)), (0,(3,1,1,1,1,1))]#, (0,(3,1,1,1,1,1,1,1))]\n",
    "\n",
    "    for i in range(len(scatters)):\n",
    "        # calculate best fitted results\n",
    "        para_fit = [0, scatters[i]]\n",
    "        yfit, hdist, number_reduction_factor = model(para_fit)\n",
    "        Ndata = hdist.shape[0]\n",
    "        idx = reduce_samples(Ndata, Ndata*number_reduction_factor)\n",
    "\n",
    "        if distance==\"vertical\":\n",
    "            xdata = xpdv\n",
    "            ydata = ypdv + fp*para_fit[1]\n",
    "        else:\n",
    "            xdata = xpdv + fp*para_fit[1]\n",
    "            ydata = ypdv\n",
    "\n",
    "        xfit, yfit = xdata[idx], ydata[idx]\n",
    "        hdist_fit, xfit, yfit = distance_to_bump(xfit, yfit, bump_pdv, distance=distance)\n",
    "        hdist_fit = hdist_fit + para_fit[0]\n",
    "\n",
    "        obj_fit = distfit(hdist_fit, hist_model, bins=obj_obs.bins)\n",
    "        obj_fit.fit(ifmcmc=False)\n",
    "        str_scatter = \"{:0.0f}\\%\".format(scatters[i]*100)\n",
    "        label = \"Galaxia $\\\\sigma_{\"+variable+\"}=\"+str_scatter+\"$\" #\"$r_{\"+variable+\"}=0$, \n",
    "        axes[0].step(obj_fit.histx, obj_fit.histy, **{\"color\":colors[i], \"label\":label, \n",
    "                                                      \"linewidth\":2.0})#\"linestyle\":linestyles[i]\n",
    "\n",
    "\n",
    "    # axes[0].grid(True)\n",
    "    axes[0].set_ylim(0., obj_obs.histy.max()*1.5)\n",
    "    axes[0].set_xlabel(xtitle)\n",
    "    axes[0].set_ylabel(\"Counts\")\n",
    "    axes[0].legend(loc='upper right')\n",
    "    # fill weighted region\n",
    "    xmin_, xmax_ = obj_obs.histx[weight].min(), obj_obs.histx[weight].max()\n",
    "    lr = xmax_ - xmin_\n",
    "    axes[0].fill_betweenx(axes[0].get_ylim(), [xmin_, xmin_], [xmax_, xmax_], color=\"lightgray\")\n",
    "    axes[0].set_xlim(obj_obs.histx.min(), obj_obs.histx.max())\n",
    "    axes[0].text(0.05, 0.9, panels, transform=axes[0].transAxes)\n",
    "    \n",
    "    # plt.show()\n",
    "    plt.tight_layout()\n",
    "    plt.savefig(overleaf_path+filename)\n",
    "    # plt.close()\n"
   ]
  },
  {
   "cell_type": "code",
   "execution_count": 12,
   "metadata": {},
   "outputs": [
    {
     "data": {
      "image/png": "[encoded data removed]",
      "text/plain": [
       "<Figure size 240x148.328 with 1 Axes>"
      ]
     },
     "metadata": {
      "needs_background": "light"
     },
     "output_type": "display_data"
    },
    {
     "data": {
      "image/png": "[encoded data removed]",
      "text/plain": [
       "<Figure size 240x148.328 with 1 Axes>"
      ]
     },
     "metadata": {
      "needs_background": "light"
     },
     "output_type": "display_data"
    }
   ],
   "source": [
    "yu = np.load(work_path+'sample/rgb/yu/apk18.npy',allow_pickle=True).tolist()\n",
    "bump_obs = np.load(work_path+'sample/rgb/yu/dnu_bump.npy')\n",
    "xobs, yobs = yu[\"teff\"], yu[\"dnu\"]\n",
    "\n",
    "pdv = np.load(work_path+'sample/rgb/mist/mist.npy',allow_pickle=True).tolist()\n",
    "bump_pdv = np.load(work_path+'sample/rgb/mist/dnu_bump.npy')\n",
    "xpdv, ypdv = pdv[\"teff\"], pdv[\"dnu\"]\n",
    "\n",
    "from lib.histdist import distance_to_bump, distfit, model7, reduce_samples\n",
    "diagram = \"tnu\"\n",
    "hist_model = model7()\n",
    "\n",
    "\n",
    "distance = \"vertical\"\n",
    "variable = \"\\Delta\\\\nu\"\n",
    "filename = \"hist_rgb_dnu.pdf\"\n",
    "xtitle = \"Vertical distance in $\\Delta\\\\nu$ to the RGB bump ($\\\\mu$Hz)\"\n",
    "# scatters = [0, 0.07, 0.15]\n",
    "scatters = [0, 0.15]\n",
    "plot_model(distance, variable, xobs, yobs, bump_obs,\n",
    "            xpdv, ypdv, bump_pdv, filename, scatters, xtitle, \"(b)\")\n",
    "\n",
    "\n",
    "bump_obs = np.load(work_path+'sample/rgb/yu/numax_bump.npy')\n",
    "xobs, yobs = yu[\"teff\"], yu[\"numax\"]\n",
    "bump_pdv = np.load(work_path+'sample/rgb/mist/numax_bump.npy')\n",
    "xpdv, ypdv = pdv[\"teff\"], pdv[\"numax\"]\n",
    "distance = \"vertical\"\n",
    "variable = \"\\\\nu_{\\\\rm max}\"\n",
    "filename = \"hist_rgb_numax.pdf\"\n",
    "xtitle = \"Vertical distance in $\\\\nu_{\\\\rm max}$ to the RGB bump ($\\\\mu$Hz)\"\n",
    "# scatters = [0, 0.1, 0.2]\n",
    "scatters = [0, 0.2]\n",
    "plot_model(distance, variable, xobs, yobs, bump_obs,\n",
    "            xpdv, ypdv, bump_pdv, filename, scatters, xtitle, \"(a)\")\n"
   ]
  },
  {
   "cell_type": "code",
   "execution_count": 13,
   "metadata": {},
   "outputs": [
    {
     "data": {
      "image/png": "[encoded data removed]",
      "text/plain": [
       "<Figure size 240x148.328 with 1 Axes>"
      ]
     },
     "metadata": {
      "needs_background": "light"
     },
     "output_type": "display_data"
    },
    {
     "data": {
      "image/png": "[encoded data removed]",
      "text/plain": [
       "<Figure size 240x148.328 with 1 Axes>"
      ]
     },
     "metadata": {
      "needs_background": "light"
     },
     "output_type": "display_data"
    }
   ],
   "source": [
    "yu = np.load(work_path+'sample/rgb/yu/apk18.npy',allow_pickle=True).tolist()\n",
    "bump_obs = np.load(work_path+'sample/rgb/yu/mr_bump.npy')\n",
    "xobs, yobs = yu[\"mass\"], yu[\"radius\"]\n",
    "\n",
    "pdv = np.load(work_path+'sample/rgb/mist/mist.npy',allow_pickle=True).tolist()\n",
    "bump_pdv = np.load(work_path+'sample/rgb/mist/mr_bump.npy')\n",
    "xpdv, ypdv = pdv[\"mass\"], pdv[\"radius\"]\n",
    "\n",
    "from lib.histdist import distance_to_bump, distfit, model7, reduce_samples\n",
    "diagram = \"mr\"\n",
    "hist_model = model7()\n",
    "\n",
    "\n",
    "distance = \"vertical\"\n",
    "variable = \"R\"\n",
    "filename = \"hist_rgb_radius.pdf\"\n",
    "xtitle = \"Vertical distance in $R$ to the RGB bump ($R_{\\odot}$)\"\n",
    "# scatters = [0, 0.04, 0.08]\n",
    "scatters = [0, 0.08]\n",
    "plot_model(distance, variable, xobs, yobs, bump_obs,\n",
    "            xpdv, ypdv, bump_pdv, filename, scatters, xtitle, \"(d)\")\n",
    "\n",
    "\n",
    "distance = \"horizontal\"\n",
    "variable = \"M\"\n",
    "filename = \"hist_rgb_mass.pdf\"\n",
    "xtitle = \"Horizontal distance in $M$ to the RGB bump ($M_{\\odot}$)\"\n",
    "# scatters = [0, 0.07, 0.2]\n",
    "scatters = [0, 0.2]\n",
    "plot_model(distance, variable, xobs, yobs, bump_obs,\n",
    "            xpdv, ypdv, bump_pdv, filename, scatters, xtitle, \"(c)\")\n"
   ]
  },
  {
   "cell_type": "code",
   "execution_count": null,
   "metadata": {},
   "outputs": [],
   "source": []
  }
 ],
 "metadata": {
  "kernelspec": {
   "display_name": "Python 3",
   "language": "python",
   "name": "python3"
  },
  "language_info": {
   "codemirror_mode": {
    "name": "ipython",
    "version": 3
   },
   "file_extension": ".py",
   "mimetype": "text/x-python",
   "name": "python",
   "nbconvert_exporter": "python",
   "pygments_lexer": "ipython3",
   "version": "3.7.7"
  }
 },
 "nbformat": 4,
 "nbformat_minor": 4
}
