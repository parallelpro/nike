{
 "cells": [
  {
   "cell_type": "code",
   "execution_count": 2,
   "metadata": {},
   "outputs": [],
   "source": [
    "%run setup.py\n",
    "%config IPython.matplotlib.backend = \"retina\""
   ]
  },
  {
   "cell_type": "code",
   "execution_count": 3,
   "metadata": {},
   "outputs": [],
   "source": [
    "def end(i):\n",
    "    if i in [0,1]:\n",
    "        end=','\n",
    "    if i is 2:\n",
    "        end=', and'\n",
    "    if i is 3:\n",
    "        end='.'\n",
    "    return end"
   ]
  },
  {
   "cell_type": "markdown",
   "metadata": {},
   "source": [
    "# Lower and Upper limits Sharma11"
   ]
  },
  {
   "cell_type": "code",
   "execution_count": 10,
   "metadata": {},
   "outputs": [
    {
     "name": "stdout",
     "output_type": "stream",
     "text": [
      "The upper limits are\n",
      "$1.26\\%\\pm0.06\\%$ (\\Dnu{}),\n",
      "$2.51\\%\\pm0.09\\%$ (\\numax{}),\n",
      "$9.05\\%\\pm0.44\\%$ ($M$), and\n",
      "$2.12\\%\\pm0.06\\%$ ($R$).\n",
      "The lower limits are\n",
      "$0.44\\%\\pm0.18\\%$ (\\Dnu{}),\n",
      "$0.20\\%\\pm0.12\\%$ (\\numax{}),\n",
      "$2.02\\%\\pm1.41\\%$ ($M$), and\n",
      "$0.11\\%\\pm0.08\\%$ ($R$).\n"
     ]
    }
   ],
   "source": [
    "path=work_path+\"sample/heb/sharpness/sharma16/\"\n",
    "relations = [\"dnu\", \"numax\", \"mass\", \"radius\"]\n",
    "names = [\"$\\Delta\\\\nu$\", \"$\\\\nu_{\\\\rm max}$\", \"$M$\", \"$R$\"]\n",
    "lnames = [\"\\Dnu{}\", \"\\\\numax{}\", \"$M$\", \"$R$\"]\n",
    "llim, ellim, ulim, eulim = [np.zeros(4) for i in range(4)]\n",
    "for i in range(4):\n",
    "    data = np.load(path+relations[i]+\"/llim/data.npy\",allow_pickle=True).tolist()\n",
    "    llim[i] = data['para_fit'][1]\n",
    "    ellim[i] =  data['e_para_fit'][1]\n",
    "    \n",
    "#     para_fitmax = np.zeros(2)\n",
    "#     for ipara in range(2):\n",
    "#         n, bins = np.histogram(data['samples'][:,ipara], 80)\n",
    "#         idx = np.where(n == n.max())[0][0]\n",
    "#         para_fitmax[ipara] = bins[idx:idx+1].mean()     \n",
    "#     llim[i] = para_fitmax[-1]\n",
    "#     ellim[i] =  data['e_para_fit'][1]\n",
    "\n",
    "    \n",
    "    data = np.load(path+relations[i]+\"/ulim/data.npy\",allow_pickle=True).tolist()\n",
    "    ulim[i], eulim[i] = data['para_fit'][1], data['e_para_fit'][1]\n",
    "\n",
    "print('The upper limits are')\n",
    "for i in range(4):\n",
    "    print(\"${:0.2f}\\%\\pm{:0.2f}\\%$ ({:s})\".format(ulim[i]*100, eulim[i]*100, lnames[i])+end(i))\n",
    "\n",
    "print('The lower limits are')\n",
    "for i in range(4):\n",
    "    print(\"${:0.2f}\\%\\pm{:0.2f}\\%$ ({:s})\".format(llim[i]*100, ellim[i]*100, lnames[i])+end(i))"
   ]
  },
  {
   "cell_type": "markdown",
   "metadata": {},
   "source": [
    "### Are the scatters of mass and radius expected?"
   ]
  },
  {
   "cell_type": "code",
   "execution_count": 11,
   "metadata": {},
   "outputs": [
    {
     "name": "stdout",
     "output_type": "stream",
     "text": [
      "Expect mass and radius scatter,  [11.13281928  5.26653069]\n",
      "Observed mass and radius scatter,  [9.04799142 2.12008014]\n",
      "Expect mass and radius scatter,  [3.37775374 1.16415407]\n",
      "Observed mass and radius scatter,  [2.02098149 0.10699978]\n",
      "Expect mass and radius scatter,  [9.78348264 4.7409235 ]\n",
      "Observed mass and radius scatter,  [7.02700993 2.01308036]\n"
     ]
    }
   ],
   "source": [
    "# expressed in fractional form\n",
    "def get_emass_eradius(enumax, ednu, et):\n",
    "    emass = ((3*enumax)**2.0+(-4*ednu)**2.0+(1.5*et)**2.0)**0.5\n",
    "    eradius = ((1*enumax)**2.0+(-2*ednu)**2.0+(0.5*et)**2.0)**0.5\n",
    "    return np.array([emass, eradius])\n",
    "\n",
    "print('Expect mass and radius scatter, ', get_emass_eradius(ulim[0], ulim[1], 100.0/5000)*100)\n",
    "print('Observed mass and radius scatter, ', ulim[2:]*100)\n",
    "\n",
    "print('Expect mass and radius scatter, ', get_emass_eradius(llim[0], llim[1], 100.0/5000)*100)\n",
    "print('Observed mass and radius scatter, ', llim[2:]*100)\n",
    "\n",
    "print('Expect mass and radius scatter, ', get_emass_eradius(ulim[0]-llim[0], ulim[1]-llim[1], 70.0/5000)*100)\n",
    "print('Observed mass and radius scatter, ', (ulim[2:]-llim[2:])*100)"
   ]
  },
  {
   "cell_type": "markdown",
   "metadata": {},
   "source": [
    "# Lower and Upper limits KB95"
   ]
  },
  {
   "cell_type": "code",
   "execution_count": 12,
   "metadata": {},
   "outputs": [
    {
     "name": "stdout",
     "output_type": "stream",
     "text": [
      "The upper limits are\n",
      "$1.25\\%\\pm0.05\\%$ (\\Dnu{}),\n",
      "$2.23\\%\\pm0.12\\%$ (\\numax{}),\n",
      "$9.10\\%\\pm0.50\\%$ ($M$), and\n",
      "$2.01\\%\\pm0.05\\%$ ($R$).\n",
      "The lower limits are\n",
      "$0.13\\%\\pm0.18\\%$ (\\Dnu{}),\n",
      "$0.72\\%\\pm0.24\\%$ (\\numax{}),\n",
      "$2.34\\%\\pm1.38\\%$ ($M$), and\n",
      "$0.22\\%\\pm0.12\\%$ ($R$).\n"
     ]
    }
   ],
   "source": [
    "path=work_path+\"sample/heb/sharpness/kb95/\"\n",
    "relations = [\"dnu\", \"numax\", \"mass\", \"radius\"]\n",
    "names = [\"$\\Delta\\\\nu$\", \"$\\\\nu_{\\\\rm max}$\", \"$M$\", \"$R$\"]\n",
    "lnames = [\"\\Dnu{}\", \"\\\\numax{}\", \"$M$\", \"$R$\"]\n",
    "llim1, ellim1, ulim1, eulim1 = [np.zeros(4) for i in range(4)]\n",
    "for i in range(4):\n",
    "    data = np.load(path+relations[i]+\"/llim/data.npy\",allow_pickle=True).tolist()\n",
    "    llim1[i] = data['para_fit'][1]\n",
    "    ellim1[i] =  data['e_para_fit'][1]\n",
    "    \n",
    "#     para_fitmax = np.zeros(2)\n",
    "#     for ipara in range(2):\n",
    "#         n, bins = np.histogram(data['samples'][:,ipara], 80)\n",
    "#         idx = np.where(n == n.max())[0][0]\n",
    "#         para_fitmax[ipara] = bins[idx:idx+1].mean()     \n",
    "#     llim1[i] = para_fitmax[-1]\n",
    "#     ellim1[i] =  data['e_para_fit'][1]\n",
    "    \n",
    "    \n",
    "    data = np.load(path+relations[i]+\"/ulim/data.npy\",allow_pickle=True).tolist()\n",
    "    ulim1[i], eulim1[i] = data['para_fit'][1], data['e_para_fit'][1]\n",
    "\n",
    "print('The upper limits are')\n",
    "for i in range(4):\n",
    "    print(\"${:0.2f}\\%\\pm{:0.2f}\\%$ ({:s})\".format(ulim1[i]*100, eulim1[i]*100, lnames[i])+end(i))\n",
    "print('The lower limits are')\n",
    "for i in range(4):\n",
    "    print(\"${:0.2f}\\%\\pm{:0.2f}\\%$ ({:s})\".format(llim1[i]*100, ellim1[i]*100, lnames[i])+end(i))"
   ]
  },
  {
   "cell_type": "code",
   "execution_count": 13,
   "metadata": {},
   "outputs": [
    {
     "name": "stdout",
     "output_type": "stream",
     "text": [
      "Observed random errors, \n",
      "$1.12\\%$ (\\Dnu{}),\n",
      "$1.51\\%$ (\\numax{}),\n",
      "$6.76\\%$ ($M$), and\n",
      "$1.80\\%$ ($R$).\n",
      "Expect mass and radius random errors,  [6.90791933 3.22003276]\n"
     ]
    }
   ],
   "source": [
    "# expressed in fractional form\n",
    "def get_emass_eradius(enumax, ednu, et):\n",
    "    emass = ((3*enumax)**2.0+(-4*ednu)**2.0+(1.5*et)**2.0)**0.5\n",
    "    eradius = ((1*enumax)**2.0+(-2*ednu)**2.0+(0.5*et)**2.0)**0.5\n",
    "    return np.array([emass, eradius])\n",
    "\n",
    "# print('Expect mass and radius scatter, ', get_emass_eradius(ulim1[0], ulim1[1], 100.0/5000)*100)\n",
    "# print('Observed mass and radius scatter, ', ulim1[2:]*100)\n",
    "\n",
    "\n",
    "print('Observed random errors, ')\n",
    "for i in range(4):\n",
    "    print(\"${:0.2f}\\%$ ({:s})\".format((ulim1[i]-llim1[i])*100, lnames[i])+end(i))\n",
    "\n",
    "print('Expect mass and radius random errors, ', \n",
    "get_emass_eradius(ulim1[0]-llim1[0], ulim1[1]-llim1[1], 0.)*100)\n"
   ]
  },
  {
   "cell_type": "markdown",
   "metadata": {},
   "source": [
    "# MIST"
   ]
  },
  {
   "cell_type": "code",
   "execution_count": 14,
   "metadata": {},
   "outputs": [
    {
     "name": "stdout",
     "output_type": "stream",
     "text": [
      "The upper limits are\n",
      "$1.45\\%\\pm0.02\\%$ (\\Dnu{}),\n",
      "$2.99\\%\\pm0.11\\%$ (\\numax{}),\n",
      "$7.58\\%\\pm0.42\\%$ ($M$), and\n",
      "$2.19\\%\\pm0.05\\%$ ($R$).\n",
      "The lower limits are\n",
      "$0.88\\%\\pm0.06\\%$ (\\Dnu{}),\n",
      "$1.35\\%\\pm0.11\\%$ (\\numax{}),\n",
      "$0.74\\%\\pm0.47\\%$ ($M$), and\n",
      "$0.30\\%\\pm0.17\\%$ ($R$).\n"
     ]
    }
   ],
   "source": [
    "path=work_path+\"sample/heb/sharpness/mist/\"\n",
    "relations = [\"dnu\", \"numax\", \"mass\", \"radius\"]\n",
    "names = [\"$\\Delta\\\\nu$\", \"$\\\\nu_{\\\\rm max}$\", \"$M$\", \"$R$\"]\n",
    "lnames = [\"\\Dnu{}\", \"\\\\numax{}\", \"$M$\", \"$R$\"]\n",
    "llim2, ellim2, ulim2, eulim2 = [np.zeros(4) for i in range(4)]\n",
    "for i in range(4):\n",
    "    data = np.load(path+relations[i]+\"/llim/data.npy\",allow_pickle=True).tolist()\n",
    "    llim2[i] = data['para_fit'][1]\n",
    "    ellim2[i] =  data['e_para_fit'][1]\n",
    "    \n",
    "#     para_fitmax = np.zeros(2)\n",
    "#     for ipara in range(2):\n",
    "#         n, bins = np.histogram(data['samples'][:,ipara], 80)\n",
    "#         idx = np.where(n == n.max())[0][0]\n",
    "#         para_fitmax[ipara] = bins[idx:idx+1].mean()     \n",
    "#     llim2[i] = para_fitmax[-1]\n",
    "#     ellim2[i] =  data['e_para_fit'][1]\n",
    "    \n",
    "    \n",
    "    data = np.load(path+relations[i]+\"/ulim/data.npy\",allow_pickle=True).tolist()\n",
    "    ulim2[i], eulim2[i] = data['para_fit'][1], data['e_para_fit'][1]\n",
    "\n",
    "print('The upper limits are')\n",
    "for i in range(4):\n",
    "    print(\"${:0.2f}\\%\\pm{:0.2f}\\%$ ({:s})\".format(ulim2[i]*100, eulim2[i]*100, lnames[i])+end(i))\n",
    "\n",
    "print('The lower limits are')\n",
    "for i in range(4):\n",
    "    print(\"${:0.2f}\\%\\pm{:0.2f}\\%$ ({:s})\".format(llim2[i]*100, ellim2[i]*100, lnames[i])+end(i))"
   ]
  },
  {
   "cell_type": "code",
   "execution_count": null,
   "metadata": {},
   "outputs": [],
   "source": []
  },
  {
   "cell_type": "code",
   "execution_count": null,
   "metadata": {},
   "outputs": [],
   "source": [
    "# data"
   ]
  },
  {
   "cell_type": "code",
   "execution_count": 15,
   "metadata": {},
   "outputs": [
    {
     "data": {
      "image/png": "[encoded data removed]",
      "text/plain": [
       "<Figure size 240x148.328 with 1 Axes>"
      ]
     },
     "metadata": {
      "needs_background": "light"
     },
     "output_type": "display_data"
    }
   ],
   "source": [
    "fig = plt.figure(figsize=mnras_size())\n",
    "axes = fig.subplots(nrows=1, ncols=1, squeeze=False).reshape(-1)\n",
    "ind = np.arange(4)\n",
    "axes[0].errorbar(ind-0.2, ulim*100, yerr=eulim*100, color=blue, marker=\"s\",\n",
    "                 label=\"Padova + $\\\\Delta\\\\nu$ (S11)\", **errstyle)\n",
    "axes[0].errorbar(ind-0.2, llim*100, yerr=ellim*100, color=orange, marker=\"s\", **errstyle)\n",
    "axes[0].errorbar(ind+0.0, ulim1*100, yerr=eulim1*100, color=blue, marker=\"^\", \n",
    "                 label=\"Padova + $\\\\Delta\\\\nu$ (KB95)\", **errstyle)\n",
    "axes[0].errorbar(ind+0.0, llim1*100, yerr=ellim1*100, color=orange, marker=\"^\", **errstyle)\n",
    "axes[0].errorbar(ind+0.2, ulim2*100, yerr=eulim2*100, color=blue, marker=\"o\", \n",
    "                 label=\"MIST + $\\\\Delta\\\\nu$ (S11)\", **errstyle)\n",
    "axes[0].errorbar(ind+0.2, llim2*100, yerr=ellim2*100, color=orange, marker=\"o\", **errstyle)\n",
    "\n",
    "axes[0].set_xticks(ind)\n",
    "axes[0].set_xticklabels(names)\n",
    "axes[0].set_ylabel(\"$\\\\sigma$ (\\%)\")\n",
    "axes[0].legend()\n",
    "plt.tight_layout()\n",
    "plt.savefig(overleaf_path+'limits.pdf')"
   ]
  },
  {
   "cell_type": "markdown",
   "metadata": {},
   "source": []
  },
  {
   "cell_type": "code",
   "execution_count": null,
   "metadata": {},
   "outputs": [],
   "source": []
  },
  {
   "cell_type": "code",
   "execution_count": null,
   "metadata": {},
   "outputs": [],
   "source": []
  },
  {
   "cell_type": "code",
   "execution_count": null,
   "metadata": {},
   "outputs": [],
   "source": []
  }
 ],
 "metadata": {
  "kernelspec": {
   "display_name": "Python 3",
   "language": "python",
   "name": "python3"
  },
  "language_info": {
   "codemirror_mode": {
    "name": "ipython",
    "version": 3
   },
   "file_extension": ".py",
   "mimetype": "text/x-python",
   "name": "python",
   "nbconvert_exporter": "python",
   "pygments_lexer": "ipython3",
   "version": "3.7.6"
  }
 },
 "nbformat": 4,
 "nbformat_minor": 4
}
