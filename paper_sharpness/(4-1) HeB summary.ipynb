{
 "cells": [
  {
   "cell_type": "code",
   "execution_count": 1,
   "metadata": {},
   "outputs": [],
   "source": [
    "%run setup.py\n",
    "%config IPython.matplotlib.backend = \"retina\""
   ]
  },
  {
   "cell_type": "code",
   "execution_count": 2,
   "metadata": {},
   "outputs": [],
   "source": [
    "def end(i):\n",
    "    if i in [0,1]:\n",
    "        end=','\n",
    "    if i is 2:\n",
    "        end=', and'\n",
    "    if i is 3:\n",
    "        end='.'\n",
    "    return end"
   ]
  },
  {
   "cell_type": "markdown",
   "metadata": {},
   "source": [
    "# parsec s11"
   ]
  },
  {
   "cell_type": "code",
   "execution_count": 3,
   "metadata": {},
   "outputs": [
    {
     "name": "stdout",
     "output_type": "stream",
     "text": [
      "The upper limits are\n",
      "$1.28\\%\\pm0.04\\%$ (\\Dnu{}),\n",
      "$2.25\\%\\pm0.11\\%$ (\\numax{}),\n",
      "$8.78\\%\\pm0.38\\%$ ($M$), and\n",
      "$2.09\\%\\pm0.08\\%$ ($R$).\n",
      "The lower limits are\n",
      "$0.25\\%\\pm0.21\\%$ (\\Dnu{}),\n",
      "$0.21\\%\\pm0.31\\%$ (\\numax{}),\n",
      "$1.29\\%\\pm1.40\\%$ ($M$), and\n",
      "$0.04\\%\\pm0.05\\%$ ($R$).\n"
     ]
    }
   ],
   "source": [
    "path=work_path+\"sample/heb/sharpness/sharma16/\"\n",
    "relations = [\"dnu\", \"numax\", \"mass\", \"radius\"]\n",
    "names = [\"$\\Delta\\\\nu$\", \"$\\\\nu_{\\\\rm max}$\", \"$M$\", \"$R$\"]\n",
    "lnames = [\"\\Dnu{}\", \"\\\\numax{}\", \"$M$\", \"$R$\"]\n",
    "llim, ellim, ulim, eulim = [np.zeros(4) for i in range(4)]\n",
    "for i in range(4):\n",
    "    data = np.load(path+relations[i]+\"/llim/data.npy\",allow_pickle=True).tolist()\n",
    "    llim[i] = data['para_fit'][1]\n",
    "    ellim[i] =  data['e_para_fit'][1]\n",
    "    \n",
    "#     para_fitmax = np.zeros(2)\n",
    "#     for ipara in range(2):\n",
    "#         n, bins = np.histogram(data['samples'][:,ipara], 80)\n",
    "#         idx = np.where(n == n.max())[0][0]\n",
    "#         para_fitmax[ipara] = bins[idx:idx+1].mean()     \n",
    "#     llim[i] = para_fitmax[-1]\n",
    "#     ellim[i] =  data['e_para_fit'][1]\n",
    "\n",
    "    \n",
    "    data = np.load(path+relations[i]+\"/ulim/data.npy\",allow_pickle=True).tolist()\n",
    "    ulim[i], eulim[i] = data['para_fit'][1], data['e_para_fit'][1]\n",
    "\n",
    "print('The upper limits are')\n",
    "for i in range(4):\n",
    "    print(\"${:0.2f}\\%\\pm{:0.2f}\\%$ ({:s})\".format(ulim[i]*100, eulim[i]*100, lnames[i])+end(i))\n",
    "\n",
    "print('The lower limits are')\n",
    "for i in range(4):\n",
    "    print(\"${:0.2f}\\%\\pm{:0.2f}\\%$ ({:s})\".format(llim[i]*100, ellim[i]*100, lnames[i])+end(i))"
   ]
  },
  {
   "cell_type": "markdown",
   "metadata": {},
   "source": [
    "### Are the scatters of mass and radius expected?"
   ]
  },
  {
   "cell_type": "code",
   "execution_count": 4,
   "metadata": {},
   "outputs": [
    {
     "name": "stdout",
     "output_type": "stream",
     "text": [
      "Expect mass and radius scatter,  [10.23709915  4.78488698]\n",
      "Observed mass and radius scatter,  [8.77826825 2.09078034]\n",
      "Expect mass and radius scatter,  [3.20533696 1.11267757]\n",
      "Observed mass and radius scatter,  [1.28729708 0.04084289]\n",
      "Expect mass and radius scatter,  [8.97908796 4.26871365]\n",
      "Observed mass and radius scatter,  [7.49097117 2.04993746]\n"
     ]
    }
   ],
   "source": [
    "# expressed in fractional form\n",
    "def get_emass_eradius(enumax, ednu, et):\n",
    "    emass = ((3*enumax)**2.0+(-4*ednu)**2.0+(1.5*et)**2.0)**0.5\n",
    "    eradius = ((1*enumax)**2.0+(-2*ednu)**2.0+(0.5*et)**2.0)**0.5\n",
    "    return np.array([emass, eradius])\n",
    "\n",
    "print('Expect mass and radius scatter, ', get_emass_eradius(ulim[0], ulim[1], 100.0/5000)*100)\n",
    "print('Observed mass and radius scatter, ', ulim[2:]*100)\n",
    "\n",
    "print('Expect mass and radius scatter, ', get_emass_eradius(llim[0], llim[1], 100.0/5000)*100)\n",
    "print('Observed mass and radius scatter, ', llim[2:]*100)\n",
    "\n",
    "print('Expect mass and radius scatter, ', get_emass_eradius(ulim[0]-llim[0], ulim[1]-llim[1], 70.0/5000)*100)\n",
    "print('Observed mass and radius scatter, ', (ulim[2:]-llim[2:])*100)"
   ]
  },
  {
   "cell_type": "markdown",
   "metadata": {},
   "source": [
    "# parsec scaling"
   ]
  },
  {
   "cell_type": "code",
   "execution_count": 5,
   "metadata": {},
   "outputs": [
    {
     "name": "stdout",
     "output_type": "stream",
     "text": [
      "The upper limits are\n",
      "$1.25\\%\\pm0.05\\%$ (\\Dnu{}),\n",
      "$2.23\\%\\pm0.12\\%$ (\\numax{}),\n",
      "$9.10\\%\\pm0.50\\%$ ($M$), and\n",
      "$2.01\\%\\pm0.05\\%$ ($R$).\n",
      "The lower limits are\n",
      "$0.13\\%\\pm0.18\\%$ (\\Dnu{}),\n",
      "$0.72\\%\\pm0.24\\%$ (\\numax{}),\n",
      "$2.34\\%\\pm1.38\\%$ ($M$), and\n",
      "$0.22\\%\\pm0.12\\%$ ($R$).\n"
     ]
    }
   ],
   "source": [
    "path=work_path+\"sample/heb/sharpness/kb95/\"\n",
    "relations = [\"dnu\", \"numax\", \"mass\", \"radius\"]\n",
    "names = [\"$\\Delta\\\\nu$\", \"$\\\\nu_{\\\\rm max}$\", \"$M$\", \"$R$\"]\n",
    "lnames = [\"\\Dnu{}\", \"\\\\numax{}\", \"$M$\", \"$R$\"]\n",
    "llim1, ellim1, ulim1, eulim1 = [np.zeros(4) for i in range(4)]\n",
    "for i in range(4):\n",
    "    data = np.load(path+relations[i]+\"/llim/data.npy\",allow_pickle=True).tolist()\n",
    "    llim1[i] = data['para_fit'][1]\n",
    "    ellim1[i] =  data['e_para_fit'][1]\n",
    "    \n",
    "#     para_fitmax = np.zeros(2)\n",
    "#     for ipara in range(2):\n",
    "#         n, bins = np.histogram(data['samples'][:,ipara], 80)\n",
    "#         idx = np.where(n == n.max())[0][0]\n",
    "#         para_fitmax[ipara] = bins[idx:idx+1].mean()     \n",
    "#     llim1[i] = para_fitmax[-1]\n",
    "#     ellim1[i] =  data['e_para_fit'][1]\n",
    "    \n",
    "    \n",
    "    data = np.load(path+relations[i]+\"/ulim/data.npy\",allow_pickle=True).tolist()\n",
    "    ulim1[i], eulim1[i] = data['para_fit'][1], data['e_para_fit'][1]\n",
    "\n",
    "print('The upper limits are')\n",
    "for i in range(4):\n",
    "    print(\"${:0.2f}\\%\\pm{:0.2f}\\%$ ({:s})\".format(ulim1[i]*100, eulim1[i]*100, lnames[i])+end(i))\n",
    "print('The lower limits are')\n",
    "for i in range(4):\n",
    "    print(\"${:0.2f}\\%\\pm{:0.2f}\\%$ ({:s})\".format(llim1[i]*100, ellim1[i]*100, lnames[i])+end(i))"
   ]
  },
  {
   "cell_type": "markdown",
   "metadata": {},
   "source": [
    "# parsec scaling handpick errors (combo)"
   ]
  },
  {
   "cell_type": "code",
   "execution_count": 6,
   "metadata": {
    "scrolled": false
   },
   "outputs": [
    {
     "name": "stdout",
     "output_type": "stream",
     "text": [
      "The upper limits handpicking errors are\n",
      "$\\pm0.06\\%$ (\\Dnu{}),\n",
      "$\\pm0.10\\%$ (\\numax{}),\n",
      "$\\pm0.65\\%$ ($M$), and\n",
      "$\\pm0.06\\%$ ($R$).\n",
      "The lower limits handpicking errors are\n",
      "$\\pm1.63\\%$ (\\Dnu{}),\n",
      "$\\pm0.42\\%$ (\\numax{}),\n",
      "$\\pm5.52\\%$ ($M$), and\n",
      "$\\pm5.17\\%$ ($R$).\n"
     ]
    },
    {
     "data": {
      "image/png": "[encoded data removed]",
      "text/plain": [
       "<Figure size 432x288 with 1 Axes>"
      ]
     },
     "metadata": {
      "needs_background": "light"
     },
     "output_type": "display_data"
    },
    {
     "data": {
      "image/png": "[encoded data removed]",
      "text/plain": [
       "<Figure size 432x288 with 1 Axes>"
      ]
     },
     "metadata": {
      "needs_background": "light"
     },
     "output_type": "display_data"
    },
    {
     "data": {
      "image/png": "[encoded data removed]",
      "text/plain": [
       "<Figure size 432x288 with 1 Axes>"
      ]
     },
     "metadata": {
      "needs_background": "light"
     },
     "output_type": "display_data"
    },
    {
     "data": {
      "image/png": "[encoded data removed]",
      "text/plain": [
       "<Figure size 432x288 with 1 Axes>"
      ]
     },
     "metadata": {
      "needs_background": "light"
     },
     "output_type": "display_data"
    }
   ],
   "source": [
    "path=work_path+\"sample/heb/sharpness/kb95combo/\"\n",
    "relations = [\"dnu\", \"numax\", \"mass\", \"radius\"]\n",
    "names = [\"$\\Delta\\\\nu$\", \"$\\\\nu_{\\\\rm max}$\", \"$M$\", \"$R$\"]\n",
    "lnames = [\"\\Dnu{}\", \"\\\\numax{}\", \"$M$\", \"$R$\"]\n",
    "ellim1h, eulim1h = [np.zeros(4) for i in range(2)]\n",
    "for i in range(4):\n",
    "    data = np.load(path+relations[i]+\"/llim/data.npy\",allow_pickle=True).tolist()\n",
    "    ps = np.array([d[1] for d in data['para_fitmax']])\n",
    "    if i==2: a=ps\n",
    "    idx = (ps != 0.08) & (ps != 0.20) & (ps != 0.005)\n",
    "    ellim1h[i] = np.std(ps[idx])\n",
    "    \n",
    "    data = np.load(path+relations[i]+\"/ulim/data.npy\",allow_pickle=True).tolist()\n",
    "    ps = np.array([d[1] for d in data['para_fitmax']])\n",
    "    if i==2: b=ps\n",
    "    plt.figure()\n",
    "    plt.hist(ps*100)\n",
    "    idx = (ps != 0.08) & (ps != 0.20) & (ps != 0.005)\n",
    "    eulim1h[i] = np.std(ps[idx])\n",
    "\n",
    "print('The upper limits handpicking errors are')\n",
    "for i in range(4):\n",
    "    print(\"$\\pm{:0.2f}\\%$ ({:s})\".format(eulim1h[i]*100, lnames[i])+end(i))\n",
    "print('The lower limits handpicking errors are')\n",
    "for i in range(4):\n",
    "    print(\"$\\pm{:0.2f}\\%$ ({:s})\".format(ellim1h[i]*100, lnames[i])+end(i))"
   ]
  },
  {
   "cell_type": "code",
   "execution_count": 7,
   "metadata": {},
   "outputs": [],
   "source": [
    "# i=3\n",
    "# data = np.load(path+relations[i]+\"/llim/data.npy\",allow_pickle=True).tolist()\n",
    "# ps = np.array([d[1] for d in data['para_fitmax']])\n",
    "# ps\n",
    "# # np.std(ps)"
   ]
  },
  {
   "cell_type": "code",
   "execution_count": 8,
   "metadata": {},
   "outputs": [
    {
     "name": "stdout",
     "output_type": "stream",
     "text": [
      "Observed random errors, \n",
      "$1.12\\%$ (\\Dnu{}),\n",
      "$1.51\\%$ (\\numax{}),\n",
      "$6.76\\%$ ($M$), and\n",
      "$1.80\\%$ ($R$).\n",
      "Expect mass and radius random errors,  [6.90791933 3.22003276]\n"
     ]
    }
   ],
   "source": [
    "# expressed in fractional form\n",
    "def get_emass_eradius(enumax, ednu, et):\n",
    "    emass = ((3*enumax)**2.0+(-4*ednu)**2.0+(1.5*et)**2.0)**0.5\n",
    "    eradius = ((1*enumax)**2.0+(-2*ednu)**2.0+(0.5*et)**2.0)**0.5\n",
    "    return np.array([emass, eradius])\n",
    "\n",
    "# print('Expect mass and radius scatter, ', get_emass_eradius(ulim1[0], ulim1[1], 100.0/5000)*100)\n",
    "# print('Observed mass and radius scatter, ', ulim1[2:]*100)\n",
    "\n",
    "\n",
    "print('Observed random errors, ')\n",
    "for i in range(4):\n",
    "    print(\"${:0.2f}\\%$ ({:s})\".format((ulim1[i]-llim1[i])*100, lnames[i])+end(i))\n",
    "\n",
    "print('Expect mass and radius random errors, ', \n",
    "get_emass_eradius(ulim1[0]-llim1[0], ulim1[1]-llim1[1], 0.)*100)\n"
   ]
  },
  {
   "cell_type": "markdown",
   "metadata": {},
   "source": [
    "# MIST s11"
   ]
  },
  {
   "cell_type": "code",
   "execution_count": 9,
   "metadata": {},
   "outputs": [
    {
     "name": "stdout",
     "output_type": "stream",
     "text": [
      "The upper limits are\n",
      "$1.43\\%\\pm0.04\\%$ (\\Dnu{}),\n",
      "$2.94\\%\\pm0.09\\%$ (\\numax{}),\n",
      "$7.48\\%\\pm0.34\\%$ ($M$), and\n",
      "$2.23\\%\\pm0.05\\%$ ($R$).\n",
      "The lower limits are\n",
      "$0.72\\%\\pm0.04\\%$ (\\Dnu{}),\n",
      "$1.16\\%\\pm0.10\\%$ (\\numax{}),\n",
      "$1.61\\%\\pm1.73\\%$ ($M$), and\n",
      "$0.07\\%\\pm0.08\\%$ ($R$).\n"
     ]
    }
   ],
   "source": [
    "path=work_path+\"sample/heb/sharpness/mistsharma16/\"\n",
    "relations = [\"dnu\", \"numax\", \"mass\", \"radius\"]\n",
    "names = [\"$\\Delta\\\\nu$\", \"$\\\\nu_{\\\\rm max}$\", \"$M$\", \"$R$\"]\n",
    "lnames = [\"\\Dnu{}\", \"\\\\numax{}\", \"$M$\", \"$R$\"]\n",
    "llim2, ellim2, ulim2, eulim2 = [np.zeros(4) for i in range(4)]\n",
    "for i in range(4):\n",
    "    data = np.load(path+relations[i]+\"/llim/data.npy\",allow_pickle=True).tolist()\n",
    "    llim2[i] = data['para_fit'][1]\n",
    "    ellim2[i] =  data['e_para_fit'][1]\n",
    "    \n",
    "#     para_fitmax = np.zeros(2)\n",
    "#     for ipara in range(2):\n",
    "#         n, bins = np.histogram(data['samples'][:,ipara], 80)\n",
    "#         idx = np.where(n == n.max())[0][0]\n",
    "#         para_fitmax[ipara] = bins[idx:idx+1].mean()     \n",
    "#     llim2[i] = para_fitmax[-1]\n",
    "#     ellim2[i] =  data['e_para_fit'][1]\n",
    "    \n",
    "    \n",
    "    data = np.load(path+relations[i]+\"/ulim/data.npy\",allow_pickle=True).tolist()\n",
    "    ulim2[i], eulim2[i] = data['para_fit'][1], data['e_para_fit'][1]\n",
    "\n",
    "print('The upper limits are')\n",
    "for i in range(4):\n",
    "    print(\"${:0.2f}\\%\\pm{:0.2f}\\%$ ({:s})\".format(ulim2[i]*100, eulim2[i]*100, lnames[i])+end(i))\n",
    "\n",
    "print('The lower limits are')\n",
    "for i in range(4):\n",
    "    print(\"${:0.2f}\\%\\pm{:0.2f}\\%$ ({:s})\".format(llim2[i]*100, ellim2[i]*100, lnames[i])+end(i))"
   ]
  },
  {
   "cell_type": "markdown",
   "metadata": {},
   "source": [
    "# MIST kb95"
   ]
  },
  {
   "cell_type": "code",
   "execution_count": 10,
   "metadata": {
    "scrolled": true
   },
   "outputs": [
    {
     "name": "stdout",
     "output_type": "stream",
     "text": [
      "The upper limits are\n",
      "$1.56\\%\\pm0.04\\%$ (\\Dnu{}),\n",
      "$2.99\\%\\pm0.19\\%$ (\\numax{}),\n",
      "$7.00\\%\\pm0.54\\%$ ($M$), and\n",
      "$2.29\\%\\pm0.07\\%$ ($R$).\n",
      "The lower limits are\n",
      "$0.89\\%\\pm0.11\\%$ (\\Dnu{}),\n",
      "$1.52\\%\\pm0.09\\%$ (\\numax{}),\n",
      "$0.28\\%\\pm0.32\\%$ ($M$), and\n",
      "$0.08\\%\\pm0.14\\%$ ($R$).\n"
     ]
    }
   ],
   "source": [
    "path=work_path+\"sample/heb/sharpness/mistkb95/\"\n",
    "relations = [\"dnu\", \"numax\", \"mass\", \"radius\"]\n",
    "names = [\"$\\Delta\\\\nu$\", \"$\\\\nu_{\\\\rm max}$\", \"$M$\", \"$R$\"]\n",
    "lnames = [\"\\Dnu{}\", \"\\\\numax{}\", \"$M$\", \"$R$\"]\n",
    "llim3, ellim3, ulim3, eulim3 = [np.zeros(4) for i in range(4)]\n",
    "for i in range(4):\n",
    "    data = np.load(path+relations[i]+\"/llim/data.npy\",allow_pickle=True).tolist()\n",
    "    llim3[i] = data['para_fit'][1]\n",
    "    ellim3[i] =  data['e_para_fit'][1]\n",
    "    \n",
    "#     para_fitmax = np.zeros(2)\n",
    "#     for ipara in range(2):\n",
    "#         n, bins = np.histogram(data['samples'][:,ipara], 80)\n",
    "#         idx = np.where(n == n.max())[0][0]\n",
    "#         para_fitmax[ipara] = bins[idx:idx+1].mean()     \n",
    "#     llim3[i] = para_fitmax[-1]\n",
    "#     ellim3[i] =  data['e_para_fit'][1]\n",
    "    \n",
    "    \n",
    "    data = np.load(path+relations[i]+\"/ulim/data.npy\",allow_pickle=True).tolist()\n",
    "    ulim3[i], eulim3[i] = data['para_fit'][1], data['e_para_fit'][1]\n",
    "\n",
    "print('The upper limits are')\n",
    "for i in range(4):\n",
    "    print(\"${:0.2f}\\%\\pm{:0.2f}\\%$ ({:s})\".format(ulim3[i]*100, eulim3[i]*100, lnames[i])+end(i))\n",
    "\n",
    "print('The lower limits are')\n",
    "for i in range(4):\n",
    "    print(\"${:0.2f}\\%\\pm{:0.2f}\\%$ ({:s})\".format(llim3[i]*100, ellim3[i]*100, lnames[i])+end(i))"
   ]
  },
  {
   "cell_type": "markdown",
   "metadata": {},
   "source": [
    "# kallinger s11"
   ]
  },
  {
   "cell_type": "code",
   "execution_count": 11,
   "metadata": {},
   "outputs": [
    {
     "name": "stdout",
     "output_type": "stream",
     "text": [
      "The upper limits are\n",
      "$0.14\\%\\pm0.10\\%$ (\\Dnu{}),\n",
      "$0.55\\%\\pm0.19\\%$ (\\numax{}),\n",
      "$5.60\\%\\pm0.44\\%$ ($M$), and\n",
      "$1.40\\%\\pm0.09\\%$ ($R$).\n",
      "The lower limits are\n",
      "$0.15\\%\\pm0.11\\%$ (\\Dnu{}),\n",
      "$0.21\\%\\pm0.26\\%$ (\\numax{}),\n",
      "$4.16\\%\\pm0.58\\%$ ($M$), and\n",
      "$0.26\\%\\pm0.20\\%$ ($R$).\n"
     ]
    }
   ],
   "source": [
    "path=work_path+\"sample/heb/sharpness/ka18sharma16/\"\n",
    "relations = [\"dnu\", \"numax\", \"mass\", \"radius\"]\n",
    "names = [\"$\\Delta\\\\nu$\", \"$\\\\nu_{\\\\rm max}$\", \"$M$\", \"$R$\"]\n",
    "lnames = [\"\\Dnu{}\", \"\\\\numax{}\", \"$M$\", \"$R$\"]\n",
    "llim4, ellim4, ulim4, eulim4 = [np.zeros(4) for i in range(4)]\n",
    "for i in range(4):\n",
    "    data = np.load(path+relations[i]+\"/llim/data.npy\",allow_pickle=True).tolist()\n",
    "    llim4[i] = data['para_fit'][1]\n",
    "    ellim4[i] =  data['e_para_fit'][1]\n",
    "    \n",
    "#     para_fitmax = np.zeros(2)\n",
    "#     for ipara in range(2):\n",
    "#         n, bins = np.histogram(data['samples'][:,ipara], 80)\n",
    "#         idx = np.where(n == n.max())[0][0]\n",
    "#         para_fitmax[ipara] = bins[idx:idx+1].mean()     \n",
    "#     llim2[i] = para_fitmax[-1]\n",
    "#     ellim2[i] =  data['e_para_fit'][1]\n",
    "    \n",
    "    \n",
    "    data = np.load(path+relations[i]+\"/ulim/data.npy\",allow_pickle=True).tolist()\n",
    "    ulim4[i], eulim4[i] = data['para_fit'][1], data['e_para_fit'][1]\n",
    "\n",
    "print('The upper limits are')\n",
    "for i in range(4):\n",
    "    print(\"${:0.2f}\\%\\pm{:0.2f}\\%$ ({:s})\".format(ulim4[i]*100, eulim4[i]*100, lnames[i])+end(i))\n",
    "\n",
    "print('The lower limits are')\n",
    "for i in range(4):\n",
    "    print(\"${:0.2f}\\%\\pm{:0.2f}\\%$ ({:s})\".format(llim4[i]*100, ellim4[i]*100, lnames[i])+end(i))"
   ]
  },
  {
   "cell_type": "markdown",
   "metadata": {},
   "source": [
    "# kallinger kb95"
   ]
  },
  {
   "cell_type": "code",
   "execution_count": 12,
   "metadata": {},
   "outputs": [
    {
     "name": "stdout",
     "output_type": "stream",
     "text": [
      "The upper limits are\n",
      "$0.27\\%\\pm0.09\\%$ (\\Dnu{}),\n",
      "$0.56\\%\\pm0.20\\%$ (\\numax{}),\n",
      "$5.16\\%\\pm0.43\\%$ ($M$), and\n",
      "$1.51\\%\\pm0.11\\%$ ($R$).\n",
      "The lower limits are\n",
      "$0.17\\%\\pm0.12\\%$ (\\Dnu{}),\n",
      "$0.21\\%\\pm0.30\\%$ (\\numax{}),\n",
      "$3.68\\%\\pm0.60\\%$ ($M$), and\n",
      "$0.59\\%\\pm0.32\\%$ ($R$).\n"
     ]
    }
   ],
   "source": [
    "path=work_path+\"sample/heb/sharpness/ka18kb95/\"\n",
    "relations = [\"dnu\", \"numax\", \"mass\", \"radius\"]\n",
    "names = [\"$\\Delta\\\\nu$\", \"$\\\\nu_{\\\\rm max}$\", \"$M$\", \"$R$\"]\n",
    "lnames = [\"\\Dnu{}\", \"\\\\numax{}\", \"$M$\", \"$R$\"]\n",
    "llim5, ellim5, ulim5, eulim5 = [np.zeros(4) for i in range(4)]\n",
    "for i in range(4):\n",
    "    data = np.load(path+relations[i]+\"/llim/data.npy\",allow_pickle=True).tolist()\n",
    "    llim5[i] = data['para_fit'][1]\n",
    "    ellim5[i] =  data['e_para_fit'][1]\n",
    "    \n",
    "#     para_fitmax = np.zeros(2)\n",
    "#     for ipara in range(2):\n",
    "#         n, bins = np.histogram(data['samples'][:,ipara], 80)\n",
    "#         idx = np.where(n == n.max())[0][0]\n",
    "#         para_fitmax[ipara] = bins[idx:idx+1].mean()     \n",
    "#     llim2[i] = para_fitmax[-1]\n",
    "#     ellim2[i] =  data['e_para_fit'][1]\n",
    "    \n",
    "    \n",
    "    data = np.load(path+relations[i]+\"/ulim/data.npy\",allow_pickle=True).tolist()\n",
    "    ulim5[i], eulim5[i] = data['para_fit'][1], data['e_para_fit'][1]\n",
    "\n",
    "print('The upper limits are')\n",
    "for i in range(4):\n",
    "    print(\"${:0.2f}\\%\\pm{:0.2f}\\%$ ({:s})\".format(ulim5[i]*100, eulim5[i]*100, lnames[i])+end(i))\n",
    "\n",
    "print('The lower limits are')\n",
    "for i in range(4):\n",
    "    print(\"${:0.2f}\\%\\pm{:0.2f}\\%$ ({:s})\".format(llim5[i]*100, ellim5[i]*100, lnames[i])+end(i))"
   ]
  },
  {
   "cell_type": "markdown",
   "metadata": {},
   "source": [
    "# plot"
   ]
  },
  {
   "cell_type": "code",
   "execution_count": 18,
   "metadata": {},
   "outputs": [
    {
     "data": {
      "image/png": "[encoded data removed]",
      "text/plain": [
       "<Figure size 240x288 with 1 Axes>"
      ]
     },
     "metadata": {
      "needs_background": "light"
     },
     "output_type": "display_data"
    }
   ],
   "source": [
    "fig = plt.figure(figsize=mnras_size(ratio=1.2))\n",
    "axes = fig.subplots(nrows=1, ncols=1, squeeze=False).reshape(-1)\n",
    "ind = np.arange(4)*1.2\n",
    "axes[0].errorbar(ulim*100, ind-0.5,  xerr=eulim*100, color=blue, marker=\"s\", **errstyle)\n",
    "axes[0].errorbar(llim*100, ind-0.5,  xerr=ellim*100, color=orange, marker=\"s\", **errstyle)\n",
    "\n",
    "axes[0].errorbar(ulim1*100, ind-0.3,  xerr=eulim1*100, color=blue, marker=\"^\", **errstyle)\n",
    "axes[0].errorbar(llim1*100, ind-0.3,  xerr=ellim1*100, color=orange, marker=\"^\", **errstyle)\n",
    "# axes[0].errorbar(ulim1*100, ind-0.3,  xerr=eulim1h*100, color=black, marker=\"^\", **errstyle)\n",
    "# axes[0].errorbar(llim1*100, ind-0.3,  xerr=ellim1h*100, color=black, marker=\"^\", **errstyle)\n",
    "\n",
    "axes[0].errorbar(ulim2*100, ind-0.1,  xerr=eulim2*100, color=blue, marker=\"o\", **errstyle)\n",
    "axes[0].errorbar(llim2*100, ind-0.1,  xerr=ellim2*100, color=orange, marker=\"o\", **errstyle)\n",
    "\n",
    "axes[0].errorbar(ulim3*100, ind+0.1,  xerr=eulim3*100, color=blue, marker=\"v\", **errstyle)\n",
    "axes[0].errorbar(llim3*100, ind+0.1,  xerr=ellim3*100, color=orange, marker=\"v\", **errstyle)\n",
    "\n",
    "axes[0].errorbar(ulim4*100, ind+0.3,  xerr=eulim4*100, color=blue, marker=\"X\", **errstyle)\n",
    "axes[0].errorbar(llim4*100, ind+0.3,  xerr=ellim4*100, color=orange, marker=\"X\", **errstyle)\n",
    "\n",
    "axes[0].errorbar(ulim5*100, ind+0.5,  xerr=eulim5*100, color=blue, marker=\"*\", **errstyle)\n",
    "axes[0].errorbar(llim5*100, ind+0.5,  xerr=ellim5*100, color=orange, marker=\"*\", **errstyle)\n",
    "\n",
    "axes[0].scatter(100,100,marker=\"*\",\n",
    "                 label=\"PARSEC + $\\\\Delta\\\\nu$ + CAN\", facecolor='none', edgecolor='black')\n",
    "axes[0].scatter(100,100,marker=\"X\",\n",
    "                 label=\"PARSEC + $f_{\\\\Delta\\\\nu}\\\\Delta\\\\nu$ + CAN\", facecolor='none', edgecolor='black')\n",
    "axes[0].scatter(100,100,marker=\"v\",\n",
    "                 label=\"MIST + $\\\\Delta\\\\nu$ + SYD\", facecolor='none', edgecolor='black')\n",
    "axes[0].scatter(100,100,marker=\"o\",\n",
    "                 label=\"MIST + $f_{\\\\Delta\\\\nu}\\\\Delta\\\\nu$ + SYD\", facecolor='none', edgecolor='black')\n",
    "axes[0].scatter(100,100,marker=\"^\",\n",
    "                 label=\"PARSEC + $\\\\Delta\\\\nu$ + SYD\", facecolor='none', edgecolor='black')\n",
    "axes[0].scatter(100,100,marker=\"s\",\n",
    "                 label=\"PARSEC + $f_{\\\\Delta\\\\nu}\\\\Delta\\\\nu$ + SYD\", facecolor='none', edgecolor='black')\n",
    "\n",
    "\n",
    "axes[0].text(6.5, 3.1, '$\\\\sigma_{\\\\rm SR}$', color=orange, ha='center', va='bottom')\n",
    "axes[0].text(7.7, 3.1, '$\\\\sigma_{\\\\rm total}$', color=blue, ha='center', va='bottom')\n",
    "\n",
    "\n",
    "axes[0].set_yticks(ind)\n",
    "axes[0].set_yticklabels(names)\n",
    "axes[0].set_xlabel(\"$\\\\sigma$ (\\%)\")\n",
    "axes[0].legend()\n",
    "axes[0].set_xlim(-0.5, 11.)\n",
    "axes[0].set_ylim(np.min(ind)-0.7, np.max(ind)+0.7)\n",
    "for hor in (ind[1:]+ind[:-1])/2.:\n",
    "    axes[0].axhline(hor, color='black', linestyle='-', linewidth=1)\n",
    "axes[0].text(0.97,0.05, 'The ZAHeB edge', va='top', ha='right', transform=axes[0].transAxes)\n",
    "plt.tight_layout()\n",
    "plt.savefig(overleaf_path+'limits_heb.pdf')"
   ]
  },
  {
   "cell_type": "markdown",
   "metadata": {},
   "source": [
    "ind"
   ]
  },
  {
   "cell_type": "code",
   "execution_count": null,
   "metadata": {},
   "outputs": [],
   "source": []
  },
  {
   "cell_type": "code",
   "execution_count": null,
   "metadata": {},
   "outputs": [],
   "source": []
  },
  {
   "cell_type": "code",
   "execution_count": null,
   "metadata": {},
   "outputs": [],
   "source": []
  }
 ],
 "metadata": {
  "kernelspec": {
   "display_name": "Python 3",
   "language": "python",
   "name": "python3"
  },
  "language_info": {
   "codemirror_mode": {
    "name": "ipython",
    "version": 3
   },
   "file_extension": ".py",
   "mimetype": "text/x-python",
   "name": "python",
   "nbconvert_exporter": "python",
   "pygments_lexer": "ipython3",
   "version": "3.7.7"
  }
 },
 "nbformat": 4,
 "nbformat_minor": 4
}
