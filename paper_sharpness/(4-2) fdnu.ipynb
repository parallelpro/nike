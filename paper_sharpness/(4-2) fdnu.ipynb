{
 "cells": [
  {
   "cell_type": "code",
   "execution_count": 1,
   "metadata": {},
   "outputs": [],
   "source": [
    "%run setup.py\n",
    "%config IPython.matplotlib.backend = \"retina\"\n",
    "\n",
    "sys.path.append(work_path+'ebfpy-master/')"
   ]
  },
  {
   "cell_type": "markdown",
   "metadata": {},
   "source": [
    "# fdnu"
   ]
  },
  {
   "cell_type": "code",
   "execution_count": 12,
   "metadata": {},
   "outputs": [],
   "source": [
    "yu = np.load(work_path+\"sample/yu_nc/yu18.npy\", allow_pickle=True).tolist()\n",
    "padova = np.load(work_path+\"sample/padova_nc/padova.npy\", allow_pickle=True).tolist()"
   ]
  },
  {
   "cell_type": "code",
   "execution_count": 9,
   "metadata": {},
   "outputs": [],
   "source": [
    "# from fdnu import asfgrid\n",
    "# s=asfgrid.Seism(datadir=work_path+\"fdnu/\")\n",
    "\n",
    "# evstate = np.zeros(len(yu['feh']))+2\n",
    "# mass, _ = s.get_mass_radius(evstate, yu['feh'], yu['teff'], yu['dnu'], \n",
    "#                            yu['numax'], fill_value=None, isfeh=True)\n",
    "# fdnu_yu = (mass/yu['mass_nc'])**0.25\n",
    "\n",
    "\n",
    "# evstate = np.zeros(len(padova['feh']))+2\n",
    "# _, _ ,fdnu_pdv=s.get_dnu_numax(evstate,padova['feh'],padova['teff'],\n",
    "#                                padova['mini'],padova['mass'],padova['logg'],fill_value=None, isfeh=True)\n",
    "\n",
    "# mass, _ = s.get_mass_radius(evstate, padova['feh'], padova['teff'], padova['dnu_nc'], \n",
    "#                            padova['numax'], fill_value=None, isfeh=True)\n",
    "\n",
    "# fdnu_pdv1 = (padova['dnu']/padova['dnu_nc'])#**0.25"
   ]
  },
  {
   "cell_type": "code",
   "execution_count": 14,
   "metadata": {},
   "outputs": [
    {
     "data": {
      "image/png": "[encoded data removed]",
      "text/plain": [
       "<Figure size 240x148.328 with 1 Axes>"
      ]
     },
     "metadata": {
      "needs_background": "light"
     },
     "output_type": "display_data"
    }
   ],
   "source": [
    "fdnu_yu = (yu['mass']/yu['mass_nc'])**0.25\n",
    "fdnu_pdv = padova['dnu']/padova['dnu_nc']\n",
    "\n",
    "fig = plt.figure(figsize=mnras_size())\n",
    "axes = fig.subplots(nrows=1, ncols=1, squeeze=False).reshape(-1)\n",
    "ind = np.arange(4)\n",
    "bins = np.linspace(0.98, 1.03, 40)\n",
    "histstyle = {'density':True, 'bins':bins, 'histtype':'step'}\n",
    "axes[0].hist(fdnu_yu, color=blue, label='Kepler', **histstyle)\n",
    "axes[0].hist(fdnu_pdv, color=orange, label='Galaxia', **histstyle)\n",
    "\n",
    "axes[0].set_xlabel(\"$f_{\\Delta\\\\nu}$\")\n",
    "axes[0].set_ylabel(\"Density\")\n",
    "axes[0].legend()\n",
    "plt.tight_layout()\n",
    "plt.savefig(overleaf_path+'fdnu.pdf')"
   ]
  },
  {
   "cell_type": "code",
   "execution_count": null,
   "metadata": {},
   "outputs": [],
   "source": []
  },
  {
   "cell_type": "code",
   "execution_count": 22,
   "metadata": {},
   "outputs": [
    {
     "data": {
      "text/plain": [
       "{'dnu': array([0.95157744, 0.27807463, 0.29852363, ..., 4.0600764 , 3.72004968,\n",
       "        4.09232265]),\n",
       " 'numax': array([ 6.29247301,  1.17174832,  1.22738607, ..., 30.21061655,\n",
       "        29.75337733, 30.79494786]),\n",
       " 'nike': array([4.1751481 , 4.05008738, 3.90622435, ..., 3.17384333, 3.42454962,\n",
       "        3.19440324]),\n",
       " 'feh': array([-0.11986261,  0.00859269,  0.04594804, ..., -0.3937061 ,\n",
       "        -0.01835129, -0.18085223], dtype=float32),\n",
       " 'mass': array([2.177, 1.732, 1.386, ..., 0.946, 1.103, 0.915], dtype=float32),\n",
       " 'radius': array([35.259132, 74.828926, 65.942604, ..., 10.279586, 11.300368,\n",
       "        10.027452], dtype=float32),\n",
       " 'dnu_nc': array([0.9520881, 0.2746787, 0.2970215, ..., 3.98692  , 3.7351172,\n",
       "        4.0698647], dtype=float32),\n",
       " 'nike_nc': array([4.17290863, 4.10015959, 3.9259792 , ..., 3.23208041, 3.41073493,\n",
       "        3.21203026])}"
      ]
     },
     "execution_count": 22,
     "metadata": {},
     "output_type": "execute_result"
    }
   ],
   "source": [
    "padova"
   ]
  },
  {
   "cell_type": "code",
   "execution_count": 16,
   "metadata": {},
   "outputs": [
    {
     "data": {
      "text/plain": [
       "{'dnu': array([3.962, 4.414, 3.991, ..., 4.335, 4.054, 3.891]),\n",
       " 'numax': array([29.48, 41.17, 36.91, ..., 37.81, 28.74, 30.03]),\n",
       " 'feh': array([-0.21, -0.12, -0.02, ..., -0.09, -0.53,  0.01]),\n",
       " 'mass': array([1.00061327, 1.74695742, 1.66887128, ..., 1.37304244, 0.83662308,\n",
       "        1.02583185]),\n",
       " 'radius': array([10.52020565, 11.82934633, 12.43382486, ..., 11.03472687,\n",
       "         9.79545425, 10.74208522]),\n",
       " 'mass_nc': array([0.99911829, 1.70755444, 1.65171281, ..., 1.35253137, 0.81757662,\n",
       "        1.02111216]),\n",
       " 'radius_nc': array([10.51234379, 11.69517882, 12.36974061, ..., 10.9519961 ,\n",
       "         9.68331125, 10.71734543]),\n",
       " 'nike': array([3.19323689, 3.68216564, 3.75211643, ..., 3.5173526 , 3.06183179,\n",
       "        3.29689616]),\n",
       " 'teff': array([5188, 5072, 4718, ..., 4906, 5077, 4834]),\n",
       " 'e_dnu': array([0.116, 0.061, 0.064, ..., 0.103, 0.057, 0.049]),\n",
       " 'e_numax': array([0.48, 0.9 , 0.71, ..., 0.42, 0.78, 0.66]),\n",
       " 'e_feh': array([0.3 , 0.3 , 0.3 , ..., 0.15, 0.3 , 0.3 ]),\n",
       " 'e_mass': array([0.13735925, 0.16875289, 0.1623287 , ..., 0.14017785, 0.08904593,\n",
       "        0.09608055]),\n",
       " 'e_radius': array([0.66527507, 0.45440089, 0.50164652, ..., 0.54187876, 0.40593165,\n",
       "        0.39175674]),\n",
       " 'e_mass_nc': array([0.13735925, 0.16875289, 0.1623287 , ..., 0.14017785, 0.08904593,\n",
       "        0.09608055]),\n",
       " 'e_radius_nc': array([0.66527507, 0.45440089, 0.50164652, ..., 0.54187876, 0.40593165,\n",
       "        0.39175674]),\n",
       " 'e_nike': array([0.10129834, 0.07895592, 0.08093566, ..., 0.08856116, 0.07574622,\n",
       "        0.06838927]),\n",
       " 'e_teff': array([183, 166, 148, ...,  80, 154, 143])}"
      ]
     },
     "execution_count": 16,
     "metadata": {},
     "output_type": "execute_result"
    }
   ],
   "source": [
    "yu"
   ]
  },
  {
   "cell_type": "code",
   "execution_count": null,
   "metadata": {},
   "outputs": [],
   "source": []
  }
 ],
 "metadata": {
  "kernelspec": {
   "display_name": "Python 3",
   "language": "python",
   "name": "python3"
  },
  "language_info": {
   "codemirror_mode": {
    "name": "ipython",
    "version": 3
   },
   "file_extension": ".py",
   "mimetype": "text/x-python",
   "name": "python",
   "nbconvert_exporter": "python",
   "pygments_lexer": "ipython3",
   "version": "3.7.6"
  }
 },
 "nbformat": 4,
 "nbformat_minor": 4
}
