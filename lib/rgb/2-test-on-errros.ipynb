{
 "cells": [
  {
   "cell_type": "code",
   "execution_count": 1,
   "metadata": {},
   "outputs": [],
   "source": [
    "# %matplotlib notebook\n",
    "import numpy as np \n",
    "from astropy.io import ascii\n",
    "\n",
    "import matplotlib.pyplot as plt\n",
    "import seaborn as sns\n",
    "from scipy import stats\n",
    "from scipy import optimize\n",
    "\n",
    "import os\n",
    "import sys\n",
    "rootpath = \"/Volumes/Data/Onedrive/Work/nike/\"\n",
    "sys.path.append(\"/Volumes/Data/Onedrive/github/\")\n",
    "sys.path.append(\"/Users/yali4742/Dropbox (Sydney Uni)/Work/nike\")\n",
    "sys.path.append(rootpath)\n",
    "sys.path.append(rootpath+'ebfpy-master/')\n",
    "# from lib.histdist import distance_to_edge, reduce_samples"
   ]
  },
  {
   "cell_type": "markdown",
   "metadata": {},
   "source": [
    "# Read in Kepler, Padova, Mist"
   ]
  },
  {
   "cell_type": "code",
   "execution_count": 2,
   "metadata": {},
   "outputs": [],
   "source": [
    "apk = np.load(rootpath+'sample/rgb/yu/apk18.npy', allow_pickle=True).tolist()\n",
    "padova = np.load(rootpath+'sample/rgb/padova/padova.npy', allow_pickle=True).tolist()\n",
    "mist = np.load(rootpath+'sample/rgb/mist/mist.npy', allow_pickle=True).tolist()"
   ]
  },
  {
   "cell_type": "code",
   "execution_count": 53,
   "metadata": {},
   "outputs": [
    {
     "data": {
      "text/plain": [
       "<matplotlib.legend.Legend at 0x1c22a56e50>"
      ]
     },
     "execution_count": 53,
     "metadata": {},
     "output_type": "execute_result"
    },
    {
     "data": {
      "image/png": "[encoded data removed]",
      "text/plain": [
       "<Figure size 720x432 with 1 Axes>"
      ]
     },
     "metadata": {
      "needs_background": "light"
     },
     "output_type": "display_data"
    }
   ],
   "source": [
    "from lib.histdist import distfit, model_rgb, distance_to_bump\n",
    "import scipy.signal\n",
    "\n",
    "obsdir = rootpath+\"sample/rgb/yu/\"\n",
    "moddir = rootpath+\"sample/rgb/padova/\"\n",
    "xobs, yobs = apk[\"teff\"], apk[\"numax\"]\n",
    "xpdv, ypdv = padova['teff'], padova['numax']\n",
    "eobs = apk[\"e_numax\"]/apk[\"numax\"]\n",
    "bump_obs = np.load(obsdir+\"numax_bump.npy\")\n",
    "bump_pdv = np.load(moddir+\"numax_bump.npy\")\n",
    "distance = 'vertical'\n",
    "hist_model = model_rgb()\n",
    "bins = np.arange(-30, 30, 2.0)\n",
    "\n",
    "\n",
    "hdist_obs, xobs, yobs = distance_to_bump(xobs, yobs, bump_obs, distance=distance)\n",
    "obj_obs = distfit(hdist_obs, hist_model, bins=bins)\n",
    "obj_obs.fit(ifmcmc=False)\n",
    "hdist_pdv, xpdv, ypdv = distance_to_bump(xpdv, ypdv, bump_pdv, distance=distance)\n",
    "obj_pdv = distfit(hdist_pdv, hist_model, bins=bins)\n",
    "obj_pdv.fit(ifmcmc=False)\n",
    "    \n",
    "Ndata = xpdv.shape[0]\n",
    "\n",
    "# tied to model_heb\n",
    "weight = np.zeros(obj_obs.histx.shape, dtype=bool)\n",
    "sigma, x0 = obj_obs.para_fit[0], obj_obs.para_fit[1]\n",
    "idx = (obj_obs.histx >= x0-4*sigma) & (obj_obs.histx <= x0+4*sigma)\n",
    "weight[idx] = True\n",
    "\n",
    "eobs_cut = eobs[np.abs(hdist_obs) <= 3*sigma]\n",
    "    \n",
    "if distance==\"vertical\":\n",
    "    fy1_base = np.random.normal(size=Ndata) * scipy.signal.resample(eobs, Ndata)\n",
    "    fp1 = ypdv*fy1_base\n",
    "    # fp1 = fy1_base\n",
    "    fy2_base = np.random.normal(size=Ndata)\n",
    "    fp2 = ypdv*fy2_base\n",
    "\n",
    "fig, axes = plt.subplots(figsize=(10,6), nrows=1,ncols=1, squeeze=False)\n",
    "axes = axes.reshape(-1)\n",
    "\n",
    "\n",
    "def model(theta):#, obj_obs, xpdv, ypdv):\n",
    "\n",
    "    # disturb with artificial scatter\n",
    "    # xdata, ydata = (xpdv + xpdv*(fx2_base*theta[1])), (ypdv + ypdv*(fy2_base*theta[1]))\n",
    "\n",
    "    hdist = hdist_pdv + fp1*theta[0] + fp2*theta[1]\n",
    "    obj = distfit(hdist, hist_model, bins=obj_obs.bins)\n",
    "\n",
    "    # normalize the number of points in the weighted region\n",
    "    if np.sum(obj.histy[weight])!=0:\n",
    "        number_reduction_factor = 1. / np.sum(obj.histy[weight])*np.sum(obj_obs.histy[weight])\n",
    "    else:\n",
    "        number_reduction_factor = 0.\n",
    "    histy = obj.histy * number_reduction_factor\n",
    "    return histy, hdist, number_reduction_factor\n",
    "\n",
    "\n",
    "# Obs\n",
    "axes[0].step(obj_obs.histx, obj_obs.histy, 'k--', label='Kepler')\n",
    "\n",
    "# Model\n",
    "for s1, s2 in [[0., 0.1], [1., 0.1]]:\n",
    "    histy, _, _ = model([s1, s2])\n",
    "    axes[0].step(obj_obs.histx, histy, label='s1={:0.2f}, s2={:0.2f}'.format(s1,s2))\n",
    "\n",
    "axes[0].legend()"
   ]
  },
  {
   "cell_type": "code",
   "execution_count": 24,
   "metadata": {},
   "outputs": [
    {
     "data": {
      "text/plain": [
       "(array([2.79e+03, 3.40e+02, 1.10e+02, 3.90e+01, 1.70e+01, 7.00e+00,\n",
       "        2.00e+00, 2.00e+00, 0.00e+00, 1.00e+00]),\n",
       " array([0.00333076, 0.01985815, 0.03638554, 0.05291292, 0.06944031,\n",
       "        0.0859677 , 0.10249509, 0.11902248, 0.13554987, 0.15207726,\n",
       "        0.16860465]),\n",
       " <a list of 10 Patch objects>)"
      ]
     },
     "execution_count": 24,
     "metadata": {},
     "output_type": "execute_result"
    },
    {
     "data": {
      "image/png": "[encoded data removed]",
      "text/plain": [
       "<Figure size 432x288 with 1 Axes>"
      ]
     },
     "metadata": {
      "needs_background": "light"
     },
     "output_type": "display_data"
    }
   ],
   "source": [
    "plt.hist(apk['e_numax']/apk['numax'])\n",
    "plt.hist(pdv[])"
   ]
  },
  {
   "cell_type": "code",
   "execution_count": 17,
   "metadata": {},
   "outputs": [
    {
     "data": {
      "text/plain": [
       "array([  51.24642054, -138.57816595,  -11.82848927, ...,  -56.26689582,\n",
       "       -105.45842651,  -27.5383562 ])"
      ]
     },
     "execution_count": 17,
     "metadata": {},
     "output_type": "execute_result"
    }
   ],
   "source": [
    "fp2"
   ]
  },
  {
   "cell_type": "code",
   "execution_count": 19,
   "metadata": {},
   "outputs": [
    {
     "data": {
      "text/plain": [
       "array([ 69.08918304,  69.08918304,  69.08918304, ..., 117.42281433,\n",
       "       237.87977815,  34.14950294])"
      ]
     },
     "execution_count": 19,
     "metadata": {},
     "output_type": "execute_result"
    }
   ],
   "source": [
    "ypdv"
   ]
  },
  {
   "cell_type": "code",
   "execution_count": 21,
   "metadata": {},
   "outputs": [
    {
     "data": {
      "text/plain": [
       "array([ 0.0016571 , -0.00409805,  0.00515387, ...,  0.00591484,\n",
       "       -0.00186412,  0.01037067])"
      ]
     },
     "execution_count": 21,
     "metadata": {},
     "output_type": "execute_result"
    }
   ],
   "source": [
    "fy1_base"
   ]
  },
  {
   "cell_type": "code",
   "execution_count": null,
   "metadata": {},
   "outputs": [],
   "source": []
  }
 ],
 "metadata": {
  "kernelspec": {
   "display_name": "Python 3",
   "language": "python",
   "name": "python3"
  },
  "language_info": {
   "codemirror_mode": {
    "name": "ipython",
    "version": 3
   },
   "file_extension": ".py",
   "mimetype": "text/x-python",
   "name": "python",
   "nbconvert_exporter": "python",
   "pygments_lexer": "ipython3",
   "version": "3.7.7"
  }
 },
 "nbformat": 4,
 "nbformat_minor": 4
}
