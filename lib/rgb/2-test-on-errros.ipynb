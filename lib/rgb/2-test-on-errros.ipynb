{
 "cells": [
  {
   "cell_type": "code",
   "execution_count": 1,
   "metadata": {},
   "outputs": [],
   "source": [
    "# %matplotlib notebook\n",
    "import numpy as np \n",
    "from astropy.io import ascii\n",
    "\n",
    "import matplotlib.pyplot as plt\n",
    "import seaborn as sns\n",
    "from scipy import stats\n",
    "from scipy import optimize\n",
    "\n",
    "import os\n",
    "import sys\n",
    "rootpath = \"/Volumes/Data/Onedrive/Work/nike/\"\n",
    "sys.path.append(\"/Volumes/Data/Onedrive/github/\")\n",
    "sys.path.append(\"/Users/yali4742/Dropbox (Sydney Uni)/Work/nike\")\n",
    "sys.path.append(rootpath)\n",
    "sys.path.append(rootpath+'ebfpy-master/')\n",
    "# from lib.histdist import distance_to_edge, reduce_samples"
   ]
  },
  {
   "cell_type": "markdown",
   "metadata": {},
   "source": [
    "# Read in Kepler, Padova, Mist"
   ]
  },
  {
   "cell_type": "code",
   "execution_count": 2,
   "metadata": {},
   "outputs": [],
   "source": [
    "apk = np.load(rootpath+'sample/rgb/yu/apk18.npy', allow_pickle=True).tolist()\n",
    "padova = np.load(rootpath+'sample/rgb/padova/padova.npy', allow_pickle=True).tolist()\n",
    "mist = np.load(rootpath+'sample/rgb/mist/mist.npy', allow_pickle=True).tolist()"
   ]
  },
  {
   "cell_type": "code",
   "execution_count": 3,
   "metadata": {},
   "outputs": [
    {
     "data": {
      "image/png": "[encoded data removed]",
      "text/plain": [
       "<Figure size 720x432 with 1 Axes>"
      ]
     },
     "metadata": {
      "needs_background": "light"
     },
     "output_type": "display_data"
    }
   ],
   "source": [
    "from lib.histdist import distfit, model_rgb, distance_to_bump\n",
    "import scipy.signal\n",
    "\n",
    "obsdir = rootpath+\"sample/rgb/yu/\"\n",
    "moddir = rootpath+\"sample/rgb/mist/\"\n",
    "xobs, yobs = apk[\"teff\"], apk[\"numax\"]\n",
    "xpdv, ypdv = mist['teff'], mist['numax']\n",
    "eobs = apk[\"e_teff\"]/apk[\"teff\"]\n",
    "bump_obs = np.load(obsdir+\"numax_bump.npy\")\n",
    "bump_pdv = np.load(moddir+\"numax_bump.npy\")\n",
    "distance = 'vertical'\n",
    "hist_model = model_rgb()\n",
    "bins = np.arange(-30, 30, 2.0)\n",
    "\n",
    "\n",
    "hdist_obs, xobs, yobs = distance_to_bump(xobs, yobs, bump_obs, distance=distance)\n",
    "obj_obs = distfit(hdist_obs, hist_model, bins=bins)\n",
    "obj_obs.fit(ifmcmc=False)\n",
    "hdist_pdv, xpdv, ypdv = distance_to_bump(xpdv, ypdv, bump_pdv, distance=distance)\n",
    "obj_pdv = distfit(hdist_pdv, hist_model, bins=bins)\n",
    "obj_pdv.fit(ifmcmc=False)\n",
    "    \n",
    "Ndata = xpdv.shape[0]\n",
    "\n",
    "# tied to model_heb\n",
    "weight = np.zeros(obj_obs.histx.shape, dtype=bool)\n",
    "sigma, x0 = obj_obs.para_fit[0], obj_obs.para_fit[1]\n",
    "idx = (obj_obs.histx >= x0-4*sigma) & (obj_obs.histx <= x0+4*sigma)\n",
    "weight[idx] = True\n",
    "\n",
    "eobs_cut = eobs[np.abs(hdist_obs) <= 3*sigma]\n",
    "    \n",
    "if distance==\"vertical\":\n",
    "    fy1_base = np.random.normal(size=Ndata) * 10.0**scipy.signal.resample(np.log10(eobs_cut), Ndata)\n",
    "    fp1 = ypdv*fy1_base\n",
    "    # fp1 = fy1_base\n",
    "    fy2_base = np.random.normal(size=Ndata)\n",
    "    fp2 = ypdv*fy2_base\n",
    "\n",
    "fig, axes = plt.subplots(figsize=(10,6), nrows=1,ncols=1, squeeze=False)\n",
    "axes = axes.reshape(-1)\n",
    "\n",
    "\n",
    "def model(theta):#, obj_obs, xpdv, ypdv):\n",
    "\n",
    "    # theta[0]: offset in distance\n",
    "    # theta[1]: perturb\n",
    "\n",
    "    # disturb with artificial scatter\n",
    "    # xdata, ydata = (xpdv + xpdv*(fx2_base*theta[1])), (ypdv + ypdv*(fy2_base*theta[1]))\n",
    "\n",
    "    hdist = hdist_pdv + fp1 + fp2*theta\n",
    "    obj = distfit(hdist, hist_model, bins=obj_obs.bins)\n",
    "\n",
    "    # normalize the number of points in the weighted region\n",
    "    if np.sum(obj.histy[weight])!=0:\n",
    "        number_reduction_factor = 1. / np.sum(obj.histy[weight])*np.sum(obj_obs.histy[weight])\n",
    "    else:\n",
    "        number_reduction_factor = 0.\n",
    "    histy = obj.histy * number_reduction_factor\n",
    "    return histy, hdist, number_reduction_factor\n",
    "\n",
    "\n",
    "# Obs\n",
    "axes[0].hist(hdist_obs, color='red', bins=bins, histtype='step')\n",
    "\n",
    "# Model\n",
    "for s in [0., 0.1, 0.2]:\n",
    "    hdist = hdist_pdv + fp1 + fp2*s\n",
    "    histy, _, _ = model(s)\n",
    "    axes[0].step(obj_obs.histx, histy)"
   ]
  },
  {
   "cell_type": "code",
   "execution_count": null,
   "metadata": {},
   "outputs": [],
   "source": []
  }
 ],
 "metadata": {
  "kernelspec": {
   "display_name": "Python 3",
   "language": "python",
   "name": "python3"
  },
  "language_info": {
   "codemirror_mode": {
    "name": "ipython",
    "version": 3
   },
   "file_extension": ".py",
   "mimetype": "text/x-python",
   "name": "python",
   "nbconvert_exporter": "python",
   "pygments_lexer": "ipython3",
   "version": "3.7.6"
  }
 },
 "nbformat": 4,
 "nbformat_minor": 4
}
