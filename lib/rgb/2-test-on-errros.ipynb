{
 "cells": [
  {
   "cell_type": "code",
   "execution_count": 1,
   "metadata": {},
   "outputs": [],
   "source": [
    "# %matplotlib notebook\n",
    "import numpy as np \n",
    "from astropy.io import ascii\n",
    "\n",
    "import matplotlib.pyplot as plt\n",
    "import seaborn as sns\n",
    "from scipy import stats\n",
    "from scipy import optimize\n",
    "\n",
    "import os\n",
    "import sys\n",
    "rootpath = \"/Volumes/Data/Onedrive/Work/nike/\"\n",
    "sys.path.append(\"/Volumes/Data/Onedrive/github/\")\n",
    "sys.path.append(\"/Users/yali4742/Dropbox (Sydney Uni)/Work/nike\")\n",
    "sys.path.append(rootpath)\n",
    "sys.path.append(rootpath+'ebfpy-master/')\n",
    "# from lib.histdist import distance_to_edge, reduce_samples"
   ]
  },
  {
   "cell_type": "markdown",
   "metadata": {},
   "source": [
    "# Read in Kepler, Padova, Mist"
   ]
  },
  {
   "cell_type": "code",
   "execution_count": 2,
   "metadata": {},
   "outputs": [],
   "source": [
    "apk = np.load(rootpath+'sample/rgb/yu/apk18.npy', allow_pickle=True).tolist()\n",
    "padova = np.load(rootpath+'sample/rgb/padova/padova.npy', allow_pickle=True).tolist()\n",
    "mist = np.load(rootpath+'sample/rgb/mist/mist.npy', allow_pickle=True).tolist()"
   ]
  },
  {
   "cell_type": "code",
   "execution_count": null,
   "metadata": {},
   "outputs": [],
   "source": [
    "\n",
    "\n",
    "    if distance==\"vertical\":\n",
    "        fy1_base = np.random.normal(size=Ndata) * 10.0**scipy.signal.resample(np.log10(eobs_cut), Ndata)\n",
    "        # fp1 = ypdv*fy1_base\n",
    "        fp1 = fy1_base\n",
    "        fy2_base = np.random.normal(size=Ndata)\n",
    "        fp2 = ypdv*fy2_base"
   ]
  }
 ],
 "metadata": {
  "kernelspec": {
   "display_name": "Python 3",
   "language": "python",
   "name": "python3"
  },
  "language_info": {
   "codemirror_mode": {
    "name": "ipython",
    "version": 3
   },
   "file_extension": ".py",
   "mimetype": "text/x-python",
   "name": "python",
   "nbconvert_exporter": "python",
   "pygments_lexer": "ipython3",
   "version": "3.7.6"
  }
 },
 "nbformat": 4,
 "nbformat_minor": 4
}
